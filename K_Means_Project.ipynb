{
  "nbformat": 4,
  "nbformat_minor": 0,
  "metadata": {
    "colab": {
      "name": "K_Means_Project.ipynb",
      "provenance": [],
      "collapsed_sections": [],
      "authorship_tag": "ABX9TyPGTmTBp8CH1HeDXJze2SYy",
      "include_colab_link": true
    },
    "kernelspec": {
      "name": "python3",
      "display_name": "Python 3"
    },
    "language_info": {
      "name": "python"
    }
  },
  "cells": [
    {
      "cell_type": "markdown",
      "metadata": {
        "id": "view-in-github",
        "colab_type": "text"
      },
      "source": [
        "<a href=\"https://colab.research.google.com/github/Romneasek/K_Means_Project/blob/main/K_Means_Project.ipynb\" target=\"_parent\"><img src=\"https://colab.research.google.com/assets/colab-badge.svg\" alt=\"Open In Colab\"/></a>"
      ]
    },
    {
      "cell_type": "code",
      "execution_count": 72,
      "metadata": {
        "id": "nvcCyTkJMsiv"
      },
      "outputs": [],
      "source": [
        "import pandas as pd\n",
        "import numpy as np\n",
        "import seaborn as sns \n",
        "import matplotlib.pyplot as plt\n",
        "%matplotlib inline"
      ]
    },
    {
      "cell_type": "code",
      "source": [
        "df=pd.read_csv('//content/Employee_Salary_Compensation.csv')\n",
        "df.head()"
      ],
      "metadata": {
        "colab": {
          "base_uri": "https://localhost:8080/",
          "height": 595
        },
        "id": "Jr0yVeqUP9C-",
        "outputId": "ef48f3ad-b95c-4369-87e3-7a2dbbb9c31d"
      },
      "execution_count": 73,
      "outputs": [
        {
          "output_type": "execute_result",
          "data": {
            "text/plain": [
              "   Organization Group Code Job Family Code Job Code Year Type  Year  \\\n",
              "0                        1            1000     1021  Calendar  2013   \n",
              "1                        1            1000     1023  Calendar  2013   \n",
              "2                        1            1000     1031  Calendar  2013   \n",
              "3                        1            1000     1054  Calendar  2013   \n",
              "4                        1            1000     1062  Calendar  2013   \n",
              "\n",
              "  Organization Group Department Code           Department  Union Code  \\\n",
              "0  Public Protection             ADP  ADP Adult Probation        21.0   \n",
              "1  Public Protection             ADP  ADP Adult Probation        21.0   \n",
              "2  Public Protection             ADP  ADP Adult Probation        21.0   \n",
              "3  Public Protection             ADP  ADP Adult Probation        21.0   \n",
              "4  Public Protection             ADP  ADP Adult Probation        21.0   \n",
              "\n",
              "                                             Union  ... Employee Identifier  \\\n",
              "0  Prof & Tech Engineers - Miscellaneous, Local 21  ...               37730   \n",
              "1  Prof & Tech Engineers - Miscellaneous, Local 21  ...               26574   \n",
              "2  Prof & Tech Engineers - Miscellaneous, Local 21  ...                8148   \n",
              "3  Prof & Tech Engineers - Miscellaneous, Local 21  ...               27436   \n",
              "4  Prof & Tech Engineers - Miscellaneous, Local 21  ...               37730   \n",
              "\n",
              "    Salaries  Overtime  Other Salaries  Total Salary  Retirement  \\\n",
              "0   57534.65       0.0            0.00      57534.65    11253.16   \n",
              "1   57678.50       0.0            0.00      57678.50    10284.88   \n",
              "2   63532.93       0.0            0.00      63532.93    12495.83   \n",
              "3  101274.51       0.0        -7058.59      94215.92    19644.45   \n",
              "4    5084.00       0.0            0.00       5084.00     1083.90   \n",
              "\n",
              "   Health and Dental  Other Benefits  Total Benefits  Total Compensation  \n",
              "0           11961.34         4532.63        27747.13            85281.78  \n",
              "1            7176.80         4755.14        22216.82            79895.32  \n",
              "2           12918.24         4702.71        30116.78            93649.71  \n",
              "3           12918.24         7458.76        40021.45           134237.37  \n",
              "4             956.91          387.50         2428.31             7512.31  \n",
              "\n",
              "[5 rows x 22 columns]"
            ],
            "text/html": [
              "\n",
              "  <div id=\"df-77a66474-0263-4b5a-b006-0983d77b8abe\">\n",
              "    <div class=\"colab-df-container\">\n",
              "      <div>\n",
              "<style scoped>\n",
              "    .dataframe tbody tr th:only-of-type {\n",
              "        vertical-align: middle;\n",
              "    }\n",
              "\n",
              "    .dataframe tbody tr th {\n",
              "        vertical-align: top;\n",
              "    }\n",
              "\n",
              "    .dataframe thead th {\n",
              "        text-align: right;\n",
              "    }\n",
              "</style>\n",
              "<table border=\"1\" class=\"dataframe\">\n",
              "  <thead>\n",
              "    <tr style=\"text-align: right;\">\n",
              "      <th></th>\n",
              "      <th>Organization Group Code</th>\n",
              "      <th>Job Family Code</th>\n",
              "      <th>Job Code</th>\n",
              "      <th>Year Type</th>\n",
              "      <th>Year</th>\n",
              "      <th>Organization Group</th>\n",
              "      <th>Department Code</th>\n",
              "      <th>Department</th>\n",
              "      <th>Union Code</th>\n",
              "      <th>Union</th>\n",
              "      <th>...</th>\n",
              "      <th>Employee Identifier</th>\n",
              "      <th>Salaries</th>\n",
              "      <th>Overtime</th>\n",
              "      <th>Other Salaries</th>\n",
              "      <th>Total Salary</th>\n",
              "      <th>Retirement</th>\n",
              "      <th>Health and Dental</th>\n",
              "      <th>Other Benefits</th>\n",
              "      <th>Total Benefits</th>\n",
              "      <th>Total Compensation</th>\n",
              "    </tr>\n",
              "  </thead>\n",
              "  <tbody>\n",
              "    <tr>\n",
              "      <th>0</th>\n",
              "      <td>1</td>\n",
              "      <td>1000</td>\n",
              "      <td>1021</td>\n",
              "      <td>Calendar</td>\n",
              "      <td>2013</td>\n",
              "      <td>Public Protection</td>\n",
              "      <td>ADP</td>\n",
              "      <td>ADP Adult Probation</td>\n",
              "      <td>21.0</td>\n",
              "      <td>Prof &amp; Tech Engineers - Miscellaneous, Local 21</td>\n",
              "      <td>...</td>\n",
              "      <td>37730</td>\n",
              "      <td>57534.65</td>\n",
              "      <td>0.0</td>\n",
              "      <td>0.00</td>\n",
              "      <td>57534.65</td>\n",
              "      <td>11253.16</td>\n",
              "      <td>11961.34</td>\n",
              "      <td>4532.63</td>\n",
              "      <td>27747.13</td>\n",
              "      <td>85281.78</td>\n",
              "    </tr>\n",
              "    <tr>\n",
              "      <th>1</th>\n",
              "      <td>1</td>\n",
              "      <td>1000</td>\n",
              "      <td>1023</td>\n",
              "      <td>Calendar</td>\n",
              "      <td>2013</td>\n",
              "      <td>Public Protection</td>\n",
              "      <td>ADP</td>\n",
              "      <td>ADP Adult Probation</td>\n",
              "      <td>21.0</td>\n",
              "      <td>Prof &amp; Tech Engineers - Miscellaneous, Local 21</td>\n",
              "      <td>...</td>\n",
              "      <td>26574</td>\n",
              "      <td>57678.50</td>\n",
              "      <td>0.0</td>\n",
              "      <td>0.00</td>\n",
              "      <td>57678.50</td>\n",
              "      <td>10284.88</td>\n",
              "      <td>7176.80</td>\n",
              "      <td>4755.14</td>\n",
              "      <td>22216.82</td>\n",
              "      <td>79895.32</td>\n",
              "    </tr>\n",
              "    <tr>\n",
              "      <th>2</th>\n",
              "      <td>1</td>\n",
              "      <td>1000</td>\n",
              "      <td>1031</td>\n",
              "      <td>Calendar</td>\n",
              "      <td>2013</td>\n",
              "      <td>Public Protection</td>\n",
              "      <td>ADP</td>\n",
              "      <td>ADP Adult Probation</td>\n",
              "      <td>21.0</td>\n",
              "      <td>Prof &amp; Tech Engineers - Miscellaneous, Local 21</td>\n",
              "      <td>...</td>\n",
              "      <td>8148</td>\n",
              "      <td>63532.93</td>\n",
              "      <td>0.0</td>\n",
              "      <td>0.00</td>\n",
              "      <td>63532.93</td>\n",
              "      <td>12495.83</td>\n",
              "      <td>12918.24</td>\n",
              "      <td>4702.71</td>\n",
              "      <td>30116.78</td>\n",
              "      <td>93649.71</td>\n",
              "    </tr>\n",
              "    <tr>\n",
              "      <th>3</th>\n",
              "      <td>1</td>\n",
              "      <td>1000</td>\n",
              "      <td>1054</td>\n",
              "      <td>Calendar</td>\n",
              "      <td>2013</td>\n",
              "      <td>Public Protection</td>\n",
              "      <td>ADP</td>\n",
              "      <td>ADP Adult Probation</td>\n",
              "      <td>21.0</td>\n",
              "      <td>Prof &amp; Tech Engineers - Miscellaneous, Local 21</td>\n",
              "      <td>...</td>\n",
              "      <td>27436</td>\n",
              "      <td>101274.51</td>\n",
              "      <td>0.0</td>\n",
              "      <td>-7058.59</td>\n",
              "      <td>94215.92</td>\n",
              "      <td>19644.45</td>\n",
              "      <td>12918.24</td>\n",
              "      <td>7458.76</td>\n",
              "      <td>40021.45</td>\n",
              "      <td>134237.37</td>\n",
              "    </tr>\n",
              "    <tr>\n",
              "      <th>4</th>\n",
              "      <td>1</td>\n",
              "      <td>1000</td>\n",
              "      <td>1062</td>\n",
              "      <td>Calendar</td>\n",
              "      <td>2013</td>\n",
              "      <td>Public Protection</td>\n",
              "      <td>ADP</td>\n",
              "      <td>ADP Adult Probation</td>\n",
              "      <td>21.0</td>\n",
              "      <td>Prof &amp; Tech Engineers - Miscellaneous, Local 21</td>\n",
              "      <td>...</td>\n",
              "      <td>37730</td>\n",
              "      <td>5084.00</td>\n",
              "      <td>0.0</td>\n",
              "      <td>0.00</td>\n",
              "      <td>5084.00</td>\n",
              "      <td>1083.90</td>\n",
              "      <td>956.91</td>\n",
              "      <td>387.50</td>\n",
              "      <td>2428.31</td>\n",
              "      <td>7512.31</td>\n",
              "    </tr>\n",
              "  </tbody>\n",
              "</table>\n",
              "<p>5 rows × 22 columns</p>\n",
              "</div>\n",
              "      <button class=\"colab-df-convert\" onclick=\"convertToInteractive('df-77a66474-0263-4b5a-b006-0983d77b8abe')\"\n",
              "              title=\"Convert this dataframe to an interactive table.\"\n",
              "              style=\"display:none;\">\n",
              "        \n",
              "  <svg xmlns=\"http://www.w3.org/2000/svg\" height=\"24px\"viewBox=\"0 0 24 24\"\n",
              "       width=\"24px\">\n",
              "    <path d=\"M0 0h24v24H0V0z\" fill=\"none\"/>\n",
              "    <path d=\"M18.56 5.44l.94 2.06.94-2.06 2.06-.94-2.06-.94-.94-2.06-.94 2.06-2.06.94zm-11 1L8.5 8.5l.94-2.06 2.06-.94-2.06-.94L8.5 2.5l-.94 2.06-2.06.94zm10 10l.94 2.06.94-2.06 2.06-.94-2.06-.94-.94-2.06-.94 2.06-2.06.94z\"/><path d=\"M17.41 7.96l-1.37-1.37c-.4-.4-.92-.59-1.43-.59-.52 0-1.04.2-1.43.59L10.3 9.45l-7.72 7.72c-.78.78-.78 2.05 0 2.83L4 21.41c.39.39.9.59 1.41.59.51 0 1.02-.2 1.41-.59l7.78-7.78 2.81-2.81c.8-.78.8-2.07 0-2.86zM5.41 20L4 18.59l7.72-7.72 1.47 1.35L5.41 20z\"/>\n",
              "  </svg>\n",
              "      </button>\n",
              "      \n",
              "  <style>\n",
              "    .colab-df-container {\n",
              "      display:flex;\n",
              "      flex-wrap:wrap;\n",
              "      gap: 12px;\n",
              "    }\n",
              "\n",
              "    .colab-df-convert {\n",
              "      background-color: #E8F0FE;\n",
              "      border: none;\n",
              "      border-radius: 50%;\n",
              "      cursor: pointer;\n",
              "      display: none;\n",
              "      fill: #1967D2;\n",
              "      height: 32px;\n",
              "      padding: 0 0 0 0;\n",
              "      width: 32px;\n",
              "    }\n",
              "\n",
              "    .colab-df-convert:hover {\n",
              "      background-color: #E2EBFA;\n",
              "      box-shadow: 0px 1px 2px rgba(60, 64, 67, 0.3), 0px 1px 3px 1px rgba(60, 64, 67, 0.15);\n",
              "      fill: #174EA6;\n",
              "    }\n",
              "\n",
              "    [theme=dark] .colab-df-convert {\n",
              "      background-color: #3B4455;\n",
              "      fill: #D2E3FC;\n",
              "    }\n",
              "\n",
              "    [theme=dark] .colab-df-convert:hover {\n",
              "      background-color: #434B5C;\n",
              "      box-shadow: 0px 1px 3px 1px rgba(0, 0, 0, 0.15);\n",
              "      filter: drop-shadow(0px 1px 2px rgba(0, 0, 0, 0.3));\n",
              "      fill: #FFFFFF;\n",
              "    }\n",
              "  </style>\n",
              "\n",
              "      <script>\n",
              "        const buttonEl =\n",
              "          document.querySelector('#df-77a66474-0263-4b5a-b006-0983d77b8abe button.colab-df-convert');\n",
              "        buttonEl.style.display =\n",
              "          google.colab.kernel.accessAllowed ? 'block' : 'none';\n",
              "\n",
              "        async function convertToInteractive(key) {\n",
              "          const element = document.querySelector('#df-77a66474-0263-4b5a-b006-0983d77b8abe');\n",
              "          const dataTable =\n",
              "            await google.colab.kernel.invokeFunction('convertToInteractive',\n",
              "                                                     [key], {});\n",
              "          if (!dataTable) return;\n",
              "\n",
              "          const docLinkHtml = 'Like what you see? Visit the ' +\n",
              "            '<a target=\"_blank\" href=https://colab.research.google.com/notebooks/data_table.ipynb>data table notebook</a>'\n",
              "            + ' to learn more about interactive tables.';\n",
              "          element.innerHTML = '';\n",
              "          dataTable['output_type'] = 'display_data';\n",
              "          await google.colab.output.renderOutput(dataTable, element);\n",
              "          const docLink = document.createElement('div');\n",
              "          docLink.innerHTML = docLinkHtml;\n",
              "          element.appendChild(docLink);\n",
              "        }\n",
              "      </script>\n",
              "    </div>\n",
              "  </div>\n",
              "  "
            ]
          },
          "metadata": {},
          "execution_count": 73
        }
      ]
    },
    {
      "cell_type": "code",
      "source": [
        "df.shape"
      ],
      "metadata": {
        "colab": {
          "base_uri": "https://localhost:8080/"
        },
        "id": "-mM1iq2HQVM_",
        "outputId": "e065fa89-60c0-485d-f20b-7bfc50df55d5"
      },
      "execution_count": 74,
      "outputs": [
        {
          "output_type": "execute_result",
          "data": {
            "text/plain": [
              "(678524, 22)"
            ]
          },
          "metadata": {},
          "execution_count": 74
        }
      ]
    },
    {
      "cell_type": "code",
      "source": [
        "df.info()"
      ],
      "metadata": {
        "colab": {
          "base_uri": "https://localhost:8080/"
        },
        "id": "ezrpOUWxW4nW",
        "outputId": "4751796e-d012-415c-ce82-af77b4e99f20"
      },
      "execution_count": 75,
      "outputs": [
        {
          "output_type": "stream",
          "name": "stdout",
          "text": [
            "<class 'pandas.core.frame.DataFrame'>\n",
            "RangeIndex: 678524 entries, 0 to 678523\n",
            "Data columns (total 22 columns):\n",
            " #   Column                   Non-Null Count   Dtype  \n",
            "---  ------                   --------------   -----  \n",
            " 0   Organization Group Code  678524 non-null  int64  \n",
            " 1   Job Family Code          678524 non-null  object \n",
            " 2   Job Code                 678524 non-null  object \n",
            " 3   Year Type                678524 non-null  object \n",
            " 4   Year                     678524 non-null  int64  \n",
            " 5   Organization Group       678524 non-null  object \n",
            " 6   Department Code          678522 non-null  object \n",
            " 7   Department               678522 non-null  object \n",
            " 8   Union Code               678345 non-null  float64\n",
            " 9   Union                    678345 non-null  object \n",
            " 10  Job Family               678524 non-null  object \n",
            " 11  Job                      678519 non-null  object \n",
            " 12  Employee Identifier      678524 non-null  int64  \n",
            " 13  Salaries                 678524 non-null  float64\n",
            " 14  Overtime                 678524 non-null  float64\n",
            " 15  Other Salaries           678524 non-null  float64\n",
            " 16  Total Salary             678524 non-null  float64\n",
            " 17  Retirement               678524 non-null  float64\n",
            " 18  Health and Dental        678524 non-null  float64\n",
            " 19  Other Benefits           678524 non-null  float64\n",
            " 20  Total Benefits           678524 non-null  float64\n",
            " 21  Total Compensation       678524 non-null  float64\n",
            "dtypes: float64(10), int64(3), object(9)\n",
            "memory usage: 113.9+ MB\n"
          ]
        }
      ]
    },
    {
      "cell_type": "code",
      "source": [
        "df['Salaries'][0]+df['Overtime'][0]+df['Other Salaries'][0]+df['Retirement'][0]+df['Health and Dental'][0]+df['Other Benefits'][0]"
      ],
      "metadata": {
        "colab": {
          "base_uri": "https://localhost:8080/"
        },
        "id": "X_Ztht8fXDuB",
        "outputId": "5770b519-3c2b-4be2-beac-f986e28dd177"
      },
      "execution_count": 76,
      "outputs": [
        {
          "output_type": "execute_result",
          "data": {
            "text/plain": [
              "85281.78"
            ]
          },
          "metadata": {},
          "execution_count": 76
        }
      ]
    },
    {
      "cell_type": "code",
      "source": [
        "df['Total Compensation'][0]"
      ],
      "metadata": {
        "colab": {
          "base_uri": "https://localhost:8080/"
        },
        "id": "3JWhPik4XKnZ",
        "outputId": "1a460709-746c-4d06-9067-89c23e368b00"
      },
      "execution_count": 77,
      "outputs": [
        {
          "output_type": "execute_result",
          "data": {
            "text/plain": [
              "85281.78"
            ]
          },
          "metadata": {},
          "execution_count": 77
        }
      ]
    },
    {
      "cell_type": "code",
      "source": [
        "df['Total Salary'][0] + df['Total Benefits'][0]"
      ],
      "metadata": {
        "colab": {
          "base_uri": "https://localhost:8080/"
        },
        "id": "0tV_VMEoXUUE",
        "outputId": "8aee83ce-be68-4f91-87ef-8d7a2891fb81"
      },
      "execution_count": 78,
      "outputs": [
        {
          "output_type": "execute_result",
          "data": {
            "text/plain": [
              "85281.78"
            ]
          },
          "metadata": {},
          "execution_count": 78
        }
      ]
    },
    {
      "cell_type": "code",
      "source": [
        "df['Employee Identifier'].nunique()"
      ],
      "metadata": {
        "colab": {
          "base_uri": "https://localhost:8080/"
        },
        "id": "yv9ZHqafXzru",
        "outputId": "e2c8c5f3-667f-49d8-abad-a23062bf5232"
      },
      "execution_count": 79,
      "outputs": [
        {
          "output_type": "execute_result",
          "data": {
            "text/plain": [
              "322178"
            ]
          },
          "metadata": {},
          "execution_count": 79
        }
      ]
    },
    {
      "cell_type": "markdown",
      "source": [
        "1. Total number of features = 22, Total number of records = 678524 including some null values\n",
        "2. There are several features that are redundant (eg. Job and Job Code, Organization Group and Organization Group Code etc. which need to be addressed)\n",
        "3. There are some null values in features: Union/Union Code, Dept/Dept Code and Job that need adressing\n",
        "4. Total Compensation = Total Salary + Total Benefits\n",
        "5. Total Salary = Salaries + Overtime + Other Salaries\n",
        "6. Total Benefits = Retirement + Health & Dental + Other Benefits\n",
        "7. Thus, we can drop Total Salary and Total Benefits, since their sub-components add up to total Compensation\n",
        "8. There are 322178 unique Emp IDs, indicating that an employee can hold more than one job or could have been part of multiple departments or continues to be part of the organization.\n",
        "\n",
        "*****************************************\n",
        "\n",
        "We will drop the following columns from the dataset,\n",
        "\n",
        "1. Redundant Columns: Organization Group Code, Job Family Code,Job Code,Department Code, Union Code - as these are categorical variables, retaining the Code will end up considering it as a numerical value thus affecting the mode.\n",
        "2. Insignificant Columns: Employee Identifier, Total Salary, Total Benefits"
      ],
      "metadata": {
        "id": "GZzs4nXRYcFL"
      }
    },
    {
      "cell_type": "code",
      "source": [
        "df.drop(['Organization Group Code','Job Family Code','Job Code','Department Code','Union Code','Total Salary','Total Benefits'],inplace=True,axis=1)"
      ],
      "metadata": {
        "id": "qJM8pMcjYzUy"
      },
      "execution_count": 80,
      "outputs": []
    },
    {
      "cell_type": "code",
      "source": [
        "df.drop(['Employee Identifier'],axis=1,inplace=True)"
      ],
      "metadata": {
        "id": "Z8HxzeMAbQKX"
      },
      "execution_count": 81,
      "outputs": []
    },
    {
      "cell_type": "code",
      "source": [
        "df.head()"
      ],
      "metadata": {
        "colab": {
          "base_uri": "https://localhost:8080/",
          "height": 441
        },
        "id": "c_3H5NAYbS6I",
        "outputId": "f6eec8a4-bf49-4bd4-914a-613351872146"
      },
      "execution_count": 82,
      "outputs": [
        {
          "output_type": "execute_result",
          "data": {
            "text/plain": [
              "  Year Type  Year Organization Group           Department  \\\n",
              "0  Calendar  2013  Public Protection  ADP Adult Probation   \n",
              "1  Calendar  2013  Public Protection  ADP Adult Probation   \n",
              "2  Calendar  2013  Public Protection  ADP Adult Probation   \n",
              "3  Calendar  2013  Public Protection  ADP Adult Probation   \n",
              "4  Calendar  2013  Public Protection  ADP Adult Probation   \n",
              "\n",
              "                                             Union           Job Family  \\\n",
              "0  Prof & Tech Engineers - Miscellaneous, Local 21  Information Systems   \n",
              "1  Prof & Tech Engineers - Miscellaneous, Local 21  Information Systems   \n",
              "2  Prof & Tech Engineers - Miscellaneous, Local 21  Information Systems   \n",
              "3  Prof & Tech Engineers - Miscellaneous, Local 21  Information Systems   \n",
              "4  Prof & Tech Engineers - Miscellaneous, Local 21  Information Systems   \n",
              "\n",
              "                             Job   Salaries  Overtime  Other Salaries  \\\n",
              "0             IS Administrator 1   57534.65       0.0            0.00   \n",
              "1             IS Administrator 3   57678.50       0.0            0.00   \n",
              "2           IS Trainer-Assistant   63532.93       0.0            0.00   \n",
              "3  IS Business Analyst-Principal  101274.51       0.0        -7058.59   \n",
              "4          IS Programmer Analyst    5084.00       0.0            0.00   \n",
              "\n",
              "   Retirement  Health and Dental  Other Benefits  Total Compensation  \n",
              "0    11253.16           11961.34         4532.63            85281.78  \n",
              "1    10284.88            7176.80         4755.14            79895.32  \n",
              "2    12495.83           12918.24         4702.71            93649.71  \n",
              "3    19644.45           12918.24         7458.76           134237.37  \n",
              "4     1083.90             956.91          387.50             7512.31  "
            ],
            "text/html": [
              "\n",
              "  <div id=\"df-dae3110e-8efa-4bf7-bfde-e597791bd243\">\n",
              "    <div class=\"colab-df-container\">\n",
              "      <div>\n",
              "<style scoped>\n",
              "    .dataframe tbody tr th:only-of-type {\n",
              "        vertical-align: middle;\n",
              "    }\n",
              "\n",
              "    .dataframe tbody tr th {\n",
              "        vertical-align: top;\n",
              "    }\n",
              "\n",
              "    .dataframe thead th {\n",
              "        text-align: right;\n",
              "    }\n",
              "</style>\n",
              "<table border=\"1\" class=\"dataframe\">\n",
              "  <thead>\n",
              "    <tr style=\"text-align: right;\">\n",
              "      <th></th>\n",
              "      <th>Year Type</th>\n",
              "      <th>Year</th>\n",
              "      <th>Organization Group</th>\n",
              "      <th>Department</th>\n",
              "      <th>Union</th>\n",
              "      <th>Job Family</th>\n",
              "      <th>Job</th>\n",
              "      <th>Salaries</th>\n",
              "      <th>Overtime</th>\n",
              "      <th>Other Salaries</th>\n",
              "      <th>Retirement</th>\n",
              "      <th>Health and Dental</th>\n",
              "      <th>Other Benefits</th>\n",
              "      <th>Total Compensation</th>\n",
              "    </tr>\n",
              "  </thead>\n",
              "  <tbody>\n",
              "    <tr>\n",
              "      <th>0</th>\n",
              "      <td>Calendar</td>\n",
              "      <td>2013</td>\n",
              "      <td>Public Protection</td>\n",
              "      <td>ADP Adult Probation</td>\n",
              "      <td>Prof &amp; Tech Engineers - Miscellaneous, Local 21</td>\n",
              "      <td>Information Systems</td>\n",
              "      <td>IS Administrator 1</td>\n",
              "      <td>57534.65</td>\n",
              "      <td>0.0</td>\n",
              "      <td>0.00</td>\n",
              "      <td>11253.16</td>\n",
              "      <td>11961.34</td>\n",
              "      <td>4532.63</td>\n",
              "      <td>85281.78</td>\n",
              "    </tr>\n",
              "    <tr>\n",
              "      <th>1</th>\n",
              "      <td>Calendar</td>\n",
              "      <td>2013</td>\n",
              "      <td>Public Protection</td>\n",
              "      <td>ADP Adult Probation</td>\n",
              "      <td>Prof &amp; Tech Engineers - Miscellaneous, Local 21</td>\n",
              "      <td>Information Systems</td>\n",
              "      <td>IS Administrator 3</td>\n",
              "      <td>57678.50</td>\n",
              "      <td>0.0</td>\n",
              "      <td>0.00</td>\n",
              "      <td>10284.88</td>\n",
              "      <td>7176.80</td>\n",
              "      <td>4755.14</td>\n",
              "      <td>79895.32</td>\n",
              "    </tr>\n",
              "    <tr>\n",
              "      <th>2</th>\n",
              "      <td>Calendar</td>\n",
              "      <td>2013</td>\n",
              "      <td>Public Protection</td>\n",
              "      <td>ADP Adult Probation</td>\n",
              "      <td>Prof &amp; Tech Engineers - Miscellaneous, Local 21</td>\n",
              "      <td>Information Systems</td>\n",
              "      <td>IS Trainer-Assistant</td>\n",
              "      <td>63532.93</td>\n",
              "      <td>0.0</td>\n",
              "      <td>0.00</td>\n",
              "      <td>12495.83</td>\n",
              "      <td>12918.24</td>\n",
              "      <td>4702.71</td>\n",
              "      <td>93649.71</td>\n",
              "    </tr>\n",
              "    <tr>\n",
              "      <th>3</th>\n",
              "      <td>Calendar</td>\n",
              "      <td>2013</td>\n",
              "      <td>Public Protection</td>\n",
              "      <td>ADP Adult Probation</td>\n",
              "      <td>Prof &amp; Tech Engineers - Miscellaneous, Local 21</td>\n",
              "      <td>Information Systems</td>\n",
              "      <td>IS Business Analyst-Principal</td>\n",
              "      <td>101274.51</td>\n",
              "      <td>0.0</td>\n",
              "      <td>-7058.59</td>\n",
              "      <td>19644.45</td>\n",
              "      <td>12918.24</td>\n",
              "      <td>7458.76</td>\n",
              "      <td>134237.37</td>\n",
              "    </tr>\n",
              "    <tr>\n",
              "      <th>4</th>\n",
              "      <td>Calendar</td>\n",
              "      <td>2013</td>\n",
              "      <td>Public Protection</td>\n",
              "      <td>ADP Adult Probation</td>\n",
              "      <td>Prof &amp; Tech Engineers - Miscellaneous, Local 21</td>\n",
              "      <td>Information Systems</td>\n",
              "      <td>IS Programmer Analyst</td>\n",
              "      <td>5084.00</td>\n",
              "      <td>0.0</td>\n",
              "      <td>0.00</td>\n",
              "      <td>1083.90</td>\n",
              "      <td>956.91</td>\n",
              "      <td>387.50</td>\n",
              "      <td>7512.31</td>\n",
              "    </tr>\n",
              "  </tbody>\n",
              "</table>\n",
              "</div>\n",
              "      <button class=\"colab-df-convert\" onclick=\"convertToInteractive('df-dae3110e-8efa-4bf7-bfde-e597791bd243')\"\n",
              "              title=\"Convert this dataframe to an interactive table.\"\n",
              "              style=\"display:none;\">\n",
              "        \n",
              "  <svg xmlns=\"http://www.w3.org/2000/svg\" height=\"24px\"viewBox=\"0 0 24 24\"\n",
              "       width=\"24px\">\n",
              "    <path d=\"M0 0h24v24H0V0z\" fill=\"none\"/>\n",
              "    <path d=\"M18.56 5.44l.94 2.06.94-2.06 2.06-.94-2.06-.94-.94-2.06-.94 2.06-2.06.94zm-11 1L8.5 8.5l.94-2.06 2.06-.94-2.06-.94L8.5 2.5l-.94 2.06-2.06.94zm10 10l.94 2.06.94-2.06 2.06-.94-2.06-.94-.94-2.06-.94 2.06-2.06.94z\"/><path d=\"M17.41 7.96l-1.37-1.37c-.4-.4-.92-.59-1.43-.59-.52 0-1.04.2-1.43.59L10.3 9.45l-7.72 7.72c-.78.78-.78 2.05 0 2.83L4 21.41c.39.39.9.59 1.41.59.51 0 1.02-.2 1.41-.59l7.78-7.78 2.81-2.81c.8-.78.8-2.07 0-2.86zM5.41 20L4 18.59l7.72-7.72 1.47 1.35L5.41 20z\"/>\n",
              "  </svg>\n",
              "      </button>\n",
              "      \n",
              "  <style>\n",
              "    .colab-df-container {\n",
              "      display:flex;\n",
              "      flex-wrap:wrap;\n",
              "      gap: 12px;\n",
              "    }\n",
              "\n",
              "    .colab-df-convert {\n",
              "      background-color: #E8F0FE;\n",
              "      border: none;\n",
              "      border-radius: 50%;\n",
              "      cursor: pointer;\n",
              "      display: none;\n",
              "      fill: #1967D2;\n",
              "      height: 32px;\n",
              "      padding: 0 0 0 0;\n",
              "      width: 32px;\n",
              "    }\n",
              "\n",
              "    .colab-df-convert:hover {\n",
              "      background-color: #E2EBFA;\n",
              "      box-shadow: 0px 1px 2px rgba(60, 64, 67, 0.3), 0px 1px 3px 1px rgba(60, 64, 67, 0.15);\n",
              "      fill: #174EA6;\n",
              "    }\n",
              "\n",
              "    [theme=dark] .colab-df-convert {\n",
              "      background-color: #3B4455;\n",
              "      fill: #D2E3FC;\n",
              "    }\n",
              "\n",
              "    [theme=dark] .colab-df-convert:hover {\n",
              "      background-color: #434B5C;\n",
              "      box-shadow: 0px 1px 3px 1px rgba(0, 0, 0, 0.15);\n",
              "      filter: drop-shadow(0px 1px 2px rgba(0, 0, 0, 0.3));\n",
              "      fill: #FFFFFF;\n",
              "    }\n",
              "  </style>\n",
              "\n",
              "      <script>\n",
              "        const buttonEl =\n",
              "          document.querySelector('#df-dae3110e-8efa-4bf7-bfde-e597791bd243 button.colab-df-convert');\n",
              "        buttonEl.style.display =\n",
              "          google.colab.kernel.accessAllowed ? 'block' : 'none';\n",
              "\n",
              "        async function convertToInteractive(key) {\n",
              "          const element = document.querySelector('#df-dae3110e-8efa-4bf7-bfde-e597791bd243');\n",
              "          const dataTable =\n",
              "            await google.colab.kernel.invokeFunction('convertToInteractive',\n",
              "                                                     [key], {});\n",
              "          if (!dataTable) return;\n",
              "\n",
              "          const docLinkHtml = 'Like what you see? Visit the ' +\n",
              "            '<a target=\"_blank\" href=https://colab.research.google.com/notebooks/data_table.ipynb>data table notebook</a>'\n",
              "            + ' to learn more about interactive tables.';\n",
              "          element.innerHTML = '';\n",
              "          dataTable['output_type'] = 'display_data';\n",
              "          await google.colab.output.renderOutput(dataTable, element);\n",
              "          const docLink = document.createElement('div');\n",
              "          docLink.innerHTML = docLinkHtml;\n",
              "          element.appendChild(docLink);\n",
              "        }\n",
              "      </script>\n",
              "    </div>\n",
              "  </div>\n",
              "  "
            ]
          },
          "metadata": {},
          "execution_count": 82
        }
      ]
    },
    {
      "cell_type": "code",
      "source": [
        "df.shape"
      ],
      "metadata": {
        "colab": {
          "base_uri": "https://localhost:8080/"
        },
        "id": "8WyLk9IHbkaN",
        "outputId": "68fcf48c-5227-493e-df62-1d7063d87ac1"
      },
      "execution_count": 83,
      "outputs": [
        {
          "output_type": "execute_result",
          "data": {
            "text/plain": [
              "(678524, 14)"
            ]
          },
          "metadata": {},
          "execution_count": 83
        }
      ]
    },
    {
      "cell_type": "code",
      "source": [
        "df.dtypes"
      ],
      "metadata": {
        "colab": {
          "base_uri": "https://localhost:8080/"
        },
        "id": "DWkuMdf1b18F",
        "outputId": "bf5617d5-3677-4855-e8d6-561daf687062"
      },
      "execution_count": 84,
      "outputs": [
        {
          "output_type": "execute_result",
          "data": {
            "text/plain": [
              "Year Type              object\n",
              "Year                    int64\n",
              "Organization Group     object\n",
              "Department             object\n",
              "Union                  object\n",
              "Job Family             object\n",
              "Job                    object\n",
              "Salaries              float64\n",
              "Overtime              float64\n",
              "Other Salaries        float64\n",
              "Retirement            float64\n",
              "Health and Dental     float64\n",
              "Other Benefits        float64\n",
              "Total Compensation    float64\n",
              "dtype: object"
            ]
          },
          "metadata": {},
          "execution_count": 84
        }
      ]
    },
    {
      "cell_type": "markdown",
      "source": [
        "Categorical features: Year Type, Organization Group, Department, Union, Job Family, Job"
      ],
      "metadata": {
        "id": "0oA_paTjcJ8x"
      }
    },
    {
      "cell_type": "code",
      "source": [
        "df.isnull().sum()"
      ],
      "metadata": {
        "colab": {
          "base_uri": "https://localhost:8080/"
        },
        "id": "EffqKzqOcMgB",
        "outputId": "362f559a-5336-4201-f218-36d795c84612"
      },
      "execution_count": 85,
      "outputs": [
        {
          "output_type": "execute_result",
          "data": {
            "text/plain": [
              "Year Type               0\n",
              "Year                    0\n",
              "Organization Group      0\n",
              "Department              2\n",
              "Union                 179\n",
              "Job Family              0\n",
              "Job                     5\n",
              "Salaries                0\n",
              "Overtime                0\n",
              "Other Salaries          0\n",
              "Retirement              0\n",
              "Health and Dental       0\n",
              "Other Benefits          0\n",
              "Total Compensation      0\n",
              "dtype: int64"
            ]
          },
          "metadata": {},
          "execution_count": 85
        }
      ]
    },
    {
      "cell_type": "markdown",
      "source": [
        "Features with Null values: Department, Union, Job. Let us figure out which are these null values and fill them accordingly."
      ],
      "metadata": {
        "id": "OU1FfWQUdu47"
      }
    },
    {
      "cell_type": "code",
      "source": [
        "df[df['Department'].isnull()]"
      ],
      "metadata": {
        "colab": {
          "base_uri": "https://localhost:8080/",
          "height": 208
        },
        "id": "KC9ZMUgxdvrN",
        "outputId": "809b2b6e-0872-43fa-fe85-969309909ea2"
      },
      "execution_count": 86,
      "outputs": [
        {
          "output_type": "execute_result",
          "data": {
            "text/plain": [
              "       Year Type  Year             Organization Group Department  \\\n",
              "548799    Fiscal  2017  General City Responsibilities        NaN   \n",
              "548800    Fiscal  2017  General City Responsibilities        NaN   \n",
              "\n",
              "                         Union              Job Family               Job  \\\n",
              "548799  SEIU, Local 1021, Misc  Correction & Detention   Sheriff's Cadet   \n",
              "548800                     POA         Police Services  Police Officer 2   \n",
              "\n",
              "         Salaries  Overtime  Other Salaries  Retirement  Health and Dental  \\\n",
              "548799   49630.50  15016.51         4575.73    10619.27           12779.88   \n",
              "548800  116189.62  40990.09         2260.08    20076.66           14515.01   \n",
              "\n",
              "        Other Benefits  Total Compensation  \n",
              "548799         4796.56            96040.24  \n",
              "548800         2724.05           196755.51  "
            ],
            "text/html": [
              "\n",
              "  <div id=\"df-017af61b-1d9f-432f-a975-53679d1a7ce2\">\n",
              "    <div class=\"colab-df-container\">\n",
              "      <div>\n",
              "<style scoped>\n",
              "    .dataframe tbody tr th:only-of-type {\n",
              "        vertical-align: middle;\n",
              "    }\n",
              "\n",
              "    .dataframe tbody tr th {\n",
              "        vertical-align: top;\n",
              "    }\n",
              "\n",
              "    .dataframe thead th {\n",
              "        text-align: right;\n",
              "    }\n",
              "</style>\n",
              "<table border=\"1\" class=\"dataframe\">\n",
              "  <thead>\n",
              "    <tr style=\"text-align: right;\">\n",
              "      <th></th>\n",
              "      <th>Year Type</th>\n",
              "      <th>Year</th>\n",
              "      <th>Organization Group</th>\n",
              "      <th>Department</th>\n",
              "      <th>Union</th>\n",
              "      <th>Job Family</th>\n",
              "      <th>Job</th>\n",
              "      <th>Salaries</th>\n",
              "      <th>Overtime</th>\n",
              "      <th>Other Salaries</th>\n",
              "      <th>Retirement</th>\n",
              "      <th>Health and Dental</th>\n",
              "      <th>Other Benefits</th>\n",
              "      <th>Total Compensation</th>\n",
              "    </tr>\n",
              "  </thead>\n",
              "  <tbody>\n",
              "    <tr>\n",
              "      <th>548799</th>\n",
              "      <td>Fiscal</td>\n",
              "      <td>2017</td>\n",
              "      <td>General City Responsibilities</td>\n",
              "      <td>NaN</td>\n",
              "      <td>SEIU, Local 1021, Misc</td>\n",
              "      <td>Correction &amp; Detention</td>\n",
              "      <td>Sheriff's Cadet</td>\n",
              "      <td>49630.50</td>\n",
              "      <td>15016.51</td>\n",
              "      <td>4575.73</td>\n",
              "      <td>10619.27</td>\n",
              "      <td>12779.88</td>\n",
              "      <td>4796.56</td>\n",
              "      <td>96040.24</td>\n",
              "    </tr>\n",
              "    <tr>\n",
              "      <th>548800</th>\n",
              "      <td>Fiscal</td>\n",
              "      <td>2017</td>\n",
              "      <td>General City Responsibilities</td>\n",
              "      <td>NaN</td>\n",
              "      <td>POA</td>\n",
              "      <td>Police Services</td>\n",
              "      <td>Police Officer 2</td>\n",
              "      <td>116189.62</td>\n",
              "      <td>40990.09</td>\n",
              "      <td>2260.08</td>\n",
              "      <td>20076.66</td>\n",
              "      <td>14515.01</td>\n",
              "      <td>2724.05</td>\n",
              "      <td>196755.51</td>\n",
              "    </tr>\n",
              "  </tbody>\n",
              "</table>\n",
              "</div>\n",
              "      <button class=\"colab-df-convert\" onclick=\"convertToInteractive('df-017af61b-1d9f-432f-a975-53679d1a7ce2')\"\n",
              "              title=\"Convert this dataframe to an interactive table.\"\n",
              "              style=\"display:none;\">\n",
              "        \n",
              "  <svg xmlns=\"http://www.w3.org/2000/svg\" height=\"24px\"viewBox=\"0 0 24 24\"\n",
              "       width=\"24px\">\n",
              "    <path d=\"M0 0h24v24H0V0z\" fill=\"none\"/>\n",
              "    <path d=\"M18.56 5.44l.94 2.06.94-2.06 2.06-.94-2.06-.94-.94-2.06-.94 2.06-2.06.94zm-11 1L8.5 8.5l.94-2.06 2.06-.94-2.06-.94L8.5 2.5l-.94 2.06-2.06.94zm10 10l.94 2.06.94-2.06 2.06-.94-2.06-.94-.94-2.06-.94 2.06-2.06.94z\"/><path d=\"M17.41 7.96l-1.37-1.37c-.4-.4-.92-.59-1.43-.59-.52 0-1.04.2-1.43.59L10.3 9.45l-7.72 7.72c-.78.78-.78 2.05 0 2.83L4 21.41c.39.39.9.59 1.41.59.51 0 1.02-.2 1.41-.59l7.78-7.78 2.81-2.81c.8-.78.8-2.07 0-2.86zM5.41 20L4 18.59l7.72-7.72 1.47 1.35L5.41 20z\"/>\n",
              "  </svg>\n",
              "      </button>\n",
              "      \n",
              "  <style>\n",
              "    .colab-df-container {\n",
              "      display:flex;\n",
              "      flex-wrap:wrap;\n",
              "      gap: 12px;\n",
              "    }\n",
              "\n",
              "    .colab-df-convert {\n",
              "      background-color: #E8F0FE;\n",
              "      border: none;\n",
              "      border-radius: 50%;\n",
              "      cursor: pointer;\n",
              "      display: none;\n",
              "      fill: #1967D2;\n",
              "      height: 32px;\n",
              "      padding: 0 0 0 0;\n",
              "      width: 32px;\n",
              "    }\n",
              "\n",
              "    .colab-df-convert:hover {\n",
              "      background-color: #E2EBFA;\n",
              "      box-shadow: 0px 1px 2px rgba(60, 64, 67, 0.3), 0px 1px 3px 1px rgba(60, 64, 67, 0.15);\n",
              "      fill: #174EA6;\n",
              "    }\n",
              "\n",
              "    [theme=dark] .colab-df-convert {\n",
              "      background-color: #3B4455;\n",
              "      fill: #D2E3FC;\n",
              "    }\n",
              "\n",
              "    [theme=dark] .colab-df-convert:hover {\n",
              "      background-color: #434B5C;\n",
              "      box-shadow: 0px 1px 3px 1px rgba(0, 0, 0, 0.15);\n",
              "      filter: drop-shadow(0px 1px 2px rgba(0, 0, 0, 0.3));\n",
              "      fill: #FFFFFF;\n",
              "    }\n",
              "  </style>\n",
              "\n",
              "      <script>\n",
              "        const buttonEl =\n",
              "          document.querySelector('#df-017af61b-1d9f-432f-a975-53679d1a7ce2 button.colab-df-convert');\n",
              "        buttonEl.style.display =\n",
              "          google.colab.kernel.accessAllowed ? 'block' : 'none';\n",
              "\n",
              "        async function convertToInteractive(key) {\n",
              "          const element = document.querySelector('#df-017af61b-1d9f-432f-a975-53679d1a7ce2');\n",
              "          const dataTable =\n",
              "            await google.colab.kernel.invokeFunction('convertToInteractive',\n",
              "                                                     [key], {});\n",
              "          if (!dataTable) return;\n",
              "\n",
              "          const docLinkHtml = 'Like what you see? Visit the ' +\n",
              "            '<a target=\"_blank\" href=https://colab.research.google.com/notebooks/data_table.ipynb>data table notebook</a>'\n",
              "            + ' to learn more about interactive tables.';\n",
              "          element.innerHTML = '';\n",
              "          dataTable['output_type'] = 'display_data';\n",
              "          await google.colab.output.renderOutput(dataTable, element);\n",
              "          const docLink = document.createElement('div');\n",
              "          docLink.innerHTML = docLinkHtml;\n",
              "          element.appendChild(docLink);\n",
              "        }\n",
              "      </script>\n",
              "    </div>\n",
              "  </div>\n",
              "  "
            ]
          },
          "metadata": {},
          "execution_count": 86
        }
      ]
    },
    {
      "cell_type": "markdown",
      "source": [
        "Let's impute this with the most frequent Department in the Organization Group General City Responsibilties"
      ],
      "metadata": {
        "id": "WaFP2N7if_WH"
      }
    },
    {
      "cell_type": "code",
      "source": [
        "df[df['Organization Group'] == 'General City Responsibilities']['Department'].mode()"
      ],
      "metadata": {
        "colab": {
          "base_uri": "https://localhost:8080/"
        },
        "id": "UR4AxxLogACW",
        "outputId": "ad50194d-61e6-41b3-af26-84a4db981c58"
      },
      "execution_count": 87,
      "outputs": [
        {
          "output_type": "execute_result",
          "data": {
            "text/plain": [
              "0    GEN General City / Unallocated\n",
              "dtype: object"
            ]
          },
          "metadata": {},
          "execution_count": 87
        }
      ]
    },
    {
      "cell_type": "code",
      "source": [
        "df['Department'].fillna('GEN General City / Unallocated',inplace=True)"
      ],
      "metadata": {
        "id": "LVwP84SRg6MG"
      },
      "execution_count": 88,
      "outputs": []
    },
    {
      "cell_type": "code",
      "source": [
        "df.isnull().sum()"
      ],
      "metadata": {
        "colab": {
          "base_uri": "https://localhost:8080/"
        },
        "id": "24ZJdvBOhNe6",
        "outputId": "acc04815-3b7d-417c-83fb-667487e50186"
      },
      "execution_count": 89,
      "outputs": [
        {
          "output_type": "execute_result",
          "data": {
            "text/plain": [
              "Year Type               0\n",
              "Year                    0\n",
              "Organization Group      0\n",
              "Department              0\n",
              "Union                 179\n",
              "Job Family              0\n",
              "Job                     5\n",
              "Salaries                0\n",
              "Overtime                0\n",
              "Other Salaries          0\n",
              "Retirement              0\n",
              "Health and Dental       0\n",
              "Other Benefits          0\n",
              "Total Compensation      0\n",
              "dtype: int64"
            ]
          },
          "metadata": {},
          "execution_count": 89
        }
      ]
    },
    {
      "cell_type": "code",
      "source": [
        "df[df['Union'].isnull()]['Department'].value_counts()"
      ],
      "metadata": {
        "colab": {
          "base_uri": "https://localhost:8080/"
        },
        "id": "ni94WiJyhVUk",
        "outputId": "f732a2d6-402b-489d-9915-60fdaa3c0538"
      },
      "execution_count": 90,
      "outputs": [
        {
          "output_type": "execute_result",
          "data": {
            "text/plain": [
              "REC Recreation & Park Commsn     133\n",
              "MTA Municipal Transprtn Agncy     46\n",
              "Name: Department, dtype: int64"
            ]
          },
          "metadata": {},
          "execution_count": 90
        }
      ]
    },
    {
      "cell_type": "code",
      "source": [
        "df[df['Union'].isnull()]['Organization Group'].value_counts()"
      ],
      "metadata": {
        "colab": {
          "base_uri": "https://localhost:8080/"
        },
        "id": "u_TI9Cw2jIsE",
        "outputId": "2edd06cb-e4ed-40d1-cdfc-b6e339edeb73"
      },
      "execution_count": 91,
      "outputs": [
        {
          "output_type": "execute_result",
          "data": {
            "text/plain": [
              "Culture & Recreation                       133\n",
              "Public Works, Transportation & Commerce     46\n",
              "Name: Organization Group, dtype: int64"
            ]
          },
          "metadata": {},
          "execution_count": 91
        }
      ]
    },
    {
      "cell_type": "code",
      "source": [
        "df[df['Union'].isnull()]['Job Family'].value_counts()"
      ],
      "metadata": {
        "colab": {
          "base_uri": "https://localhost:8080/"
        },
        "id": "QtuojONOjXu2",
        "outputId": "89e17436-ae3c-40f7-9d2e-fc1f09bee9b2"
      },
      "execution_count": 92,
      "outputs": [
        {
          "output_type": "execute_result",
          "data": {
            "text/plain": [
              "Recreation        133\n",
              "Street Transit     46\n",
              "Name: Job Family, dtype: int64"
            ]
          },
          "metadata": {},
          "execution_count": 92
        }
      ]
    },
    {
      "cell_type": "code",
      "source": [
        "df[df['Union'].isnull()]['Job'].value_counts()"
      ],
      "metadata": {
        "colab": {
          "base_uri": "https://localhost:8080/"
        },
        "id": "_pwuJ8_Bjbzx",
        "outputId": "d7f77e56-932a-42fd-f722-c20eddf1a800"
      },
      "execution_count": 93,
      "outputs": [
        {
          "output_type": "execute_result",
          "data": {
            "text/plain": [
              "Recreation Facility Assistant        133\n",
              "Transportation Controller Trainee     46\n",
              "Name: Job, dtype: int64"
            ]
          },
          "metadata": {},
          "execution_count": 93
        }
      ]
    },
    {
      "cell_type": "code",
      "source": [
        "df[df['Organization Group']=='Culture & Recreation']['Union'].mode()"
      ],
      "metadata": {
        "colab": {
          "base_uri": "https://localhost:8080/"
        },
        "id": "H7wnWISvk_wZ",
        "outputId": "89ad52d7-b728-4731-c6e4-6fcf16dbc48d"
      },
      "execution_count": 94,
      "outputs": [
        {
          "output_type": "execute_result",
          "data": {
            "text/plain": [
              "0    SEIU, Local 1021, Misc\n",
              "dtype: object"
            ]
          },
          "metadata": {},
          "execution_count": 94
        }
      ]
    },
    {
      "cell_type": "code",
      "source": [
        "df[df['Department']=='REC Recreation & Park Commsn']['Union'].mode()"
      ],
      "metadata": {
        "colab": {
          "base_uri": "https://localhost:8080/"
        },
        "id": "sW4fy_SNlT9i",
        "outputId": "22c75511-358c-4e0a-93ac-98266a6759a5"
      },
      "execution_count": 95,
      "outputs": [
        {
          "output_type": "execute_result",
          "data": {
            "text/plain": [
              "0    SEIU - Miscellaneous, Local 1021\n",
              "dtype: object"
            ]
          },
          "metadata": {},
          "execution_count": 95
        }
      ]
    },
    {
      "cell_type": "code",
      "source": [
        "df[df['Job Family']=='Recreation']['Union'].mode()"
      ],
      "metadata": {
        "colab": {
          "base_uri": "https://localhost:8080/"
        },
        "id": "kCd3uE38lgJz",
        "outputId": "e26139db-4a41-4f57-ab04-d6498188d096"
      },
      "execution_count": 96,
      "outputs": [
        {
          "output_type": "execute_result",
          "data": {
            "text/plain": [
              "0    SEIU, Local 1021, Misc\n",
              "dtype: object"
            ]
          },
          "metadata": {},
          "execution_count": 96
        }
      ]
    },
    {
      "cell_type": "code",
      "source": [
        "df[df['Job']=='Recreation Facility Assistant']['Union'].mode()"
      ],
      "metadata": {
        "colab": {
          "base_uri": "https://localhost:8080/"
        },
        "id": "B0pBzWH7lmSt",
        "outputId": "b3eccf4f-af6c-4702-c6c5-e36ba5ae56c3"
      },
      "execution_count": 97,
      "outputs": [
        {
          "output_type": "execute_result",
          "data": {
            "text/plain": [
              "0    SEIU, Local 1021, Misc\n",
              "dtype: object"
            ]
          },
          "metadata": {},
          "execution_count": 97
        }
      ]
    },
    {
      "cell_type": "code",
      "source": [
        "df['Union'].fillna('SEIU, Local 1021, Misc',inplace=True)"
      ],
      "metadata": {
        "id": "q4iVquiwluH1"
      },
      "execution_count": 98,
      "outputs": []
    },
    {
      "cell_type": "code",
      "source": [
        "df.isnull().sum()"
      ],
      "metadata": {
        "colab": {
          "base_uri": "https://localhost:8080/"
        },
        "id": "cx1VhUQFl_Eg",
        "outputId": "643f4c63-2557-4f6c-9466-3b985a10178c"
      },
      "execution_count": 99,
      "outputs": [
        {
          "output_type": "execute_result",
          "data": {
            "text/plain": [
              "Year Type             0\n",
              "Year                  0\n",
              "Organization Group    0\n",
              "Department            0\n",
              "Union                 0\n",
              "Job Family            0\n",
              "Job                   5\n",
              "Salaries              0\n",
              "Overtime              0\n",
              "Other Salaries        0\n",
              "Retirement            0\n",
              "Health and Dental     0\n",
              "Other Benefits        0\n",
              "Total Compensation    0\n",
              "dtype: int64"
            ]
          },
          "metadata": {},
          "execution_count": 99
        }
      ]
    },
    {
      "cell_type": "code",
      "source": [
        "df[df['Job'].isnull()]['Job Family'].value_counts()"
      ],
      "metadata": {
        "colab": {
          "base_uri": "https://localhost:8080/"
        },
        "id": "9qjMMF-6nLKs",
        "outputId": "23c60888-d3f1-4409-f8ea-3f51de396ed9"
      },
      "execution_count": 100,
      "outputs": [
        {
          "output_type": "execute_result",
          "data": {
            "text/plain": [
              "Management        3\n",
              "Dietary & Food    1\n",
              "Park & Zoo        1\n",
              "Name: Job Family, dtype: int64"
            ]
          },
          "metadata": {},
          "execution_count": 100
        }
      ]
    },
    {
      "cell_type": "code",
      "source": [
        "df[df['Job Family']=='Management']['Job'].mode()"
      ],
      "metadata": {
        "colab": {
          "base_uri": "https://localhost:8080/"
        },
        "id": "WtJjlb4YnUpO",
        "outputId": "e789f8cd-edbd-4033-f056-ecde269e3396"
      },
      "execution_count": 101,
      "outputs": [
        {
          "output_type": "execute_result",
          "data": {
            "text/plain": [
              "0    Manager II\n",
              "dtype: object"
            ]
          },
          "metadata": {},
          "execution_count": 101
        }
      ]
    },
    {
      "cell_type": "code",
      "source": [
        "df[df['Job Family']=='Dietary & Food']['Job'].mode()"
      ],
      "metadata": {
        "colab": {
          "base_uri": "https://localhost:8080/"
        },
        "id": "3GiAMyTLnXZo",
        "outputId": "8dc18b44-ed7d-4f75-c7af-4acdd8ff7200"
      },
      "execution_count": 102,
      "outputs": [
        {
          "output_type": "execute_result",
          "data": {
            "text/plain": [
              "0    Food Service Worker\n",
              "dtype: object"
            ]
          },
          "metadata": {},
          "execution_count": 102
        }
      ]
    },
    {
      "cell_type": "code",
      "source": [
        "df[df['Job Family']=='Park & Zoo']['Job'].mode()"
      ],
      "metadata": {
        "colab": {
          "base_uri": "https://localhost:8080/"
        },
        "id": "A3lLYNCanaRm",
        "outputId": "13247c46-f773-4564-c5fb-08e943aa14c0"
      },
      "execution_count": 103,
      "outputs": [
        {
          "output_type": "execute_result",
          "data": {
            "text/plain": [
              "0    Admission Attendant\n",
              "dtype: object"
            ]
          },
          "metadata": {},
          "execution_count": 103
        }
      ]
    },
    {
      "cell_type": "code",
      "source": [
        "pd.set_option('mode.chained_assignment','raise')"
      ],
      "metadata": {
        "id": "wKw9cwm6njih"
      },
      "execution_count": 104,
      "outputs": []
    },
    {
      "cell_type": "code",
      "source": [
        "df[df['Job'].isna()]"
      ],
      "metadata": {
        "colab": {
          "base_uri": "https://localhost:8080/",
          "height": 354
        },
        "id": "ZBtY9_zannKt",
        "outputId": "91652a5a-e445-46a5-e9f4-35084e79dc86"
      },
      "execution_count": 105,
      "outputs": [
        {
          "output_type": "execute_result",
          "data": {
            "text/plain": [
              "       Year Type  Year    Organization Group                      Department  \\\n",
              "197683  Calendar  2017      Community Health                   Public Health   \n",
              "535421    Fiscal  2017      Community Health                   Public Health   \n",
              "542571    Fiscal  2017  Culture & Recreation  Recreation And Park Commission   \n",
              "544862    Fiscal  2017  Culture & Recreation  Recreation And Park Commission   \n",
              "577950    Fiscal  2018      Community Health                   Public Health   \n",
              "\n",
              "                              Union      Job Family  Job   Salaries  Overtime  \\\n",
              "197683   Municipal Exec Assoc, Misc      Management  NaN   56887.83       0.0   \n",
              "535421   Municipal Exec Assoc, Misc      Management  NaN  120426.76       0.0   \n",
              "542571       SEIU, Local 1021, Misc  Dietary & Food  NaN    6455.33       0.0   \n",
              "544862  Teamsters, Local 856, Multi      Park & Zoo  NaN    2096.80       0.0   \n",
              "577950   Municipal Exec Assoc, Misc      Management  NaN       0.00       0.0   \n",
              "\n",
              "        Other Salaries  Retirement  Health and Dental  Other Benefits  \\\n",
              "197683        27049.42    10382.10            8388.41         5633.01   \n",
              "535421            0.00    21994.01           17084.16         9237.63   \n",
              "542571            0.00        0.00               0.00          501.03   \n",
              "544862        24381.20      390.21             383.32         1119.51   \n",
              "577950        27049.42        0.00               0.00         1034.64   \n",
              "\n",
              "        Total Compensation  \n",
              "197683            94816.06  \n",
              "535421           168742.56  \n",
              "542571             6956.36  \n",
              "544862            16180.44  \n",
              "577950            14559.35  "
            ],
            "text/html": [
              "\n",
              "  <div id=\"df-9544c6fb-10b7-4eda-a5ac-73b349a6b3f7\">\n",
              "    <div class=\"colab-df-container\">\n",
              "      <div>\n",
              "<style scoped>\n",
              "    .dataframe tbody tr th:only-of-type {\n",
              "        vertical-align: middle;\n",
              "    }\n",
              "\n",
              "    .dataframe tbody tr th {\n",
              "        vertical-align: top;\n",
              "    }\n",
              "\n",
              "    .dataframe thead th {\n",
              "        text-align: right;\n",
              "    }\n",
              "</style>\n",
              "<table border=\"1\" class=\"dataframe\">\n",
              "  <thead>\n",
              "    <tr style=\"text-align: right;\">\n",
              "      <th></th>\n",
              "      <th>Year Type</th>\n",
              "      <th>Year</th>\n",
              "      <th>Organization Group</th>\n",
              "      <th>Department</th>\n",
              "      <th>Union</th>\n",
              "      <th>Job Family</th>\n",
              "      <th>Job</th>\n",
              "      <th>Salaries</th>\n",
              "      <th>Overtime</th>\n",
              "      <th>Other Salaries</th>\n",
              "      <th>Retirement</th>\n",
              "      <th>Health and Dental</th>\n",
              "      <th>Other Benefits</th>\n",
              "      <th>Total Compensation</th>\n",
              "    </tr>\n",
              "  </thead>\n",
              "  <tbody>\n",
              "    <tr>\n",
              "      <th>197683</th>\n",
              "      <td>Calendar</td>\n",
              "      <td>2017</td>\n",
              "      <td>Community Health</td>\n",
              "      <td>Public Health</td>\n",
              "      <td>Municipal Exec Assoc, Misc</td>\n",
              "      <td>Management</td>\n",
              "      <td>NaN</td>\n",
              "      <td>56887.83</td>\n",
              "      <td>0.0</td>\n",
              "      <td>27049.42</td>\n",
              "      <td>10382.10</td>\n",
              "      <td>8388.41</td>\n",
              "      <td>5633.01</td>\n",
              "      <td>94816.06</td>\n",
              "    </tr>\n",
              "    <tr>\n",
              "      <th>535421</th>\n",
              "      <td>Fiscal</td>\n",
              "      <td>2017</td>\n",
              "      <td>Community Health</td>\n",
              "      <td>Public Health</td>\n",
              "      <td>Municipal Exec Assoc, Misc</td>\n",
              "      <td>Management</td>\n",
              "      <td>NaN</td>\n",
              "      <td>120426.76</td>\n",
              "      <td>0.0</td>\n",
              "      <td>0.00</td>\n",
              "      <td>21994.01</td>\n",
              "      <td>17084.16</td>\n",
              "      <td>9237.63</td>\n",
              "      <td>168742.56</td>\n",
              "    </tr>\n",
              "    <tr>\n",
              "      <th>542571</th>\n",
              "      <td>Fiscal</td>\n",
              "      <td>2017</td>\n",
              "      <td>Culture &amp; Recreation</td>\n",
              "      <td>Recreation And Park Commission</td>\n",
              "      <td>SEIU, Local 1021, Misc</td>\n",
              "      <td>Dietary &amp; Food</td>\n",
              "      <td>NaN</td>\n",
              "      <td>6455.33</td>\n",
              "      <td>0.0</td>\n",
              "      <td>0.00</td>\n",
              "      <td>0.00</td>\n",
              "      <td>0.00</td>\n",
              "      <td>501.03</td>\n",
              "      <td>6956.36</td>\n",
              "    </tr>\n",
              "    <tr>\n",
              "      <th>544862</th>\n",
              "      <td>Fiscal</td>\n",
              "      <td>2017</td>\n",
              "      <td>Culture &amp; Recreation</td>\n",
              "      <td>Recreation And Park Commission</td>\n",
              "      <td>Teamsters, Local 856, Multi</td>\n",
              "      <td>Park &amp; Zoo</td>\n",
              "      <td>NaN</td>\n",
              "      <td>2096.80</td>\n",
              "      <td>0.0</td>\n",
              "      <td>24381.20</td>\n",
              "      <td>390.21</td>\n",
              "      <td>383.32</td>\n",
              "      <td>1119.51</td>\n",
              "      <td>16180.44</td>\n",
              "    </tr>\n",
              "    <tr>\n",
              "      <th>577950</th>\n",
              "      <td>Fiscal</td>\n",
              "      <td>2018</td>\n",
              "      <td>Community Health</td>\n",
              "      <td>Public Health</td>\n",
              "      <td>Municipal Exec Assoc, Misc</td>\n",
              "      <td>Management</td>\n",
              "      <td>NaN</td>\n",
              "      <td>0.00</td>\n",
              "      <td>0.0</td>\n",
              "      <td>27049.42</td>\n",
              "      <td>0.00</td>\n",
              "      <td>0.00</td>\n",
              "      <td>1034.64</td>\n",
              "      <td>14559.35</td>\n",
              "    </tr>\n",
              "  </tbody>\n",
              "</table>\n",
              "</div>\n",
              "      <button class=\"colab-df-convert\" onclick=\"convertToInteractive('df-9544c6fb-10b7-4eda-a5ac-73b349a6b3f7')\"\n",
              "              title=\"Convert this dataframe to an interactive table.\"\n",
              "              style=\"display:none;\">\n",
              "        \n",
              "  <svg xmlns=\"http://www.w3.org/2000/svg\" height=\"24px\"viewBox=\"0 0 24 24\"\n",
              "       width=\"24px\">\n",
              "    <path d=\"M0 0h24v24H0V0z\" fill=\"none\"/>\n",
              "    <path d=\"M18.56 5.44l.94 2.06.94-2.06 2.06-.94-2.06-.94-.94-2.06-.94 2.06-2.06.94zm-11 1L8.5 8.5l.94-2.06 2.06-.94-2.06-.94L8.5 2.5l-.94 2.06-2.06.94zm10 10l.94 2.06.94-2.06 2.06-.94-2.06-.94-.94-2.06-.94 2.06-2.06.94z\"/><path d=\"M17.41 7.96l-1.37-1.37c-.4-.4-.92-.59-1.43-.59-.52 0-1.04.2-1.43.59L10.3 9.45l-7.72 7.72c-.78.78-.78 2.05 0 2.83L4 21.41c.39.39.9.59 1.41.59.51 0 1.02-.2 1.41-.59l7.78-7.78 2.81-2.81c.8-.78.8-2.07 0-2.86zM5.41 20L4 18.59l7.72-7.72 1.47 1.35L5.41 20z\"/>\n",
              "  </svg>\n",
              "      </button>\n",
              "      \n",
              "  <style>\n",
              "    .colab-df-container {\n",
              "      display:flex;\n",
              "      flex-wrap:wrap;\n",
              "      gap: 12px;\n",
              "    }\n",
              "\n",
              "    .colab-df-convert {\n",
              "      background-color: #E8F0FE;\n",
              "      border: none;\n",
              "      border-radius: 50%;\n",
              "      cursor: pointer;\n",
              "      display: none;\n",
              "      fill: #1967D2;\n",
              "      height: 32px;\n",
              "      padding: 0 0 0 0;\n",
              "      width: 32px;\n",
              "    }\n",
              "\n",
              "    .colab-df-convert:hover {\n",
              "      background-color: #E2EBFA;\n",
              "      box-shadow: 0px 1px 2px rgba(60, 64, 67, 0.3), 0px 1px 3px 1px rgba(60, 64, 67, 0.15);\n",
              "      fill: #174EA6;\n",
              "    }\n",
              "\n",
              "    [theme=dark] .colab-df-convert {\n",
              "      background-color: #3B4455;\n",
              "      fill: #D2E3FC;\n",
              "    }\n",
              "\n",
              "    [theme=dark] .colab-df-convert:hover {\n",
              "      background-color: #434B5C;\n",
              "      box-shadow: 0px 1px 3px 1px rgba(0, 0, 0, 0.15);\n",
              "      filter: drop-shadow(0px 1px 2px rgba(0, 0, 0, 0.3));\n",
              "      fill: #FFFFFF;\n",
              "    }\n",
              "  </style>\n",
              "\n",
              "      <script>\n",
              "        const buttonEl =\n",
              "          document.querySelector('#df-9544c6fb-10b7-4eda-a5ac-73b349a6b3f7 button.colab-df-convert');\n",
              "        buttonEl.style.display =\n",
              "          google.colab.kernel.accessAllowed ? 'block' : 'none';\n",
              "\n",
              "        async function convertToInteractive(key) {\n",
              "          const element = document.querySelector('#df-9544c6fb-10b7-4eda-a5ac-73b349a6b3f7');\n",
              "          const dataTable =\n",
              "            await google.colab.kernel.invokeFunction('convertToInteractive',\n",
              "                                                     [key], {});\n",
              "          if (!dataTable) return;\n",
              "\n",
              "          const docLinkHtml = 'Like what you see? Visit the ' +\n",
              "            '<a target=\"_blank\" href=https://colab.research.google.com/notebooks/data_table.ipynb>data table notebook</a>'\n",
              "            + ' to learn more about interactive tables.';\n",
              "          element.innerHTML = '';\n",
              "          dataTable['output_type'] = 'display_data';\n",
              "          await google.colab.output.renderOutput(dataTable, element);\n",
              "          const docLink = document.createElement('div');\n",
              "          docLink.innerHTML = docLinkHtml;\n",
              "          element.appendChild(docLink);\n",
              "        }\n",
              "      </script>\n",
              "    </div>\n",
              "  </div>\n",
              "  "
            ]
          },
          "metadata": {},
          "execution_count": 105
        }
      ]
    },
    {
      "cell_type": "code",
      "source": [
        "df.loc[197683,'Job'] = 'Manager II'"
      ],
      "metadata": {
        "id": "GRtTo0rWnwy2"
      },
      "execution_count": 106,
      "outputs": []
    },
    {
      "cell_type": "code",
      "source": [
        "df.loc[535421,'Job'] = 'Manager II'"
      ],
      "metadata": {
        "id": "AvtjTgP7nzK1"
      },
      "execution_count": 107,
      "outputs": []
    },
    {
      "cell_type": "code",
      "source": [
        "df.loc[577950,'Job'] = 'Manager II'"
      ],
      "metadata": {
        "id": "r8na5SnGn4EK"
      },
      "execution_count": 108,
      "outputs": []
    },
    {
      "cell_type": "code",
      "source": [
        "df.loc[542571,'Job'] = 'Food Service Worker'"
      ],
      "metadata": {
        "id": "Wpdhy6sun43K"
      },
      "execution_count": 109,
      "outputs": []
    },
    {
      "cell_type": "code",
      "source": [
        "df.loc[544862,'Job'] = 'Food Service Worker'"
      ],
      "metadata": {
        "id": "OlxJD5Bwn4wr"
      },
      "execution_count": 110,
      "outputs": []
    },
    {
      "cell_type": "code",
      "source": [
        "df.isnull().sum()"
      ],
      "metadata": {
        "colab": {
          "base_uri": "https://localhost:8080/"
        },
        "id": "3wEfSoIKn4aC",
        "outputId": "7e22cf7e-d091-4dce-e48d-72dbd7ca0989"
      },
      "execution_count": 111,
      "outputs": [
        {
          "output_type": "execute_result",
          "data": {
            "text/plain": [
              "Year Type             0\n",
              "Year                  0\n",
              "Organization Group    0\n",
              "Department            0\n",
              "Union                 0\n",
              "Job Family            0\n",
              "Job                   0\n",
              "Salaries              0\n",
              "Overtime              0\n",
              "Other Salaries        0\n",
              "Retirement            0\n",
              "Health and Dental     0\n",
              "Other Benefits        0\n",
              "Total Compensation    0\n",
              "dtype: int64"
            ]
          },
          "metadata": {},
          "execution_count": 111
        }
      ]
    },
    {
      "cell_type": "markdown",
      "source": [
        "All the Null/NaN values have been successfully imputed."
      ],
      "metadata": {
        "id": "mR5GOcIJoapI"
      }
    },
    {
      "cell_type": "code",
      "source": [
        "df.head()"
      ],
      "metadata": {
        "colab": {
          "base_uri": "https://localhost:8080/",
          "height": 441
        },
        "id": "KDxdZd8xobS7",
        "outputId": "35d912dd-220d-46eb-d7d3-384d75b5324f"
      },
      "execution_count": 112,
      "outputs": [
        {
          "output_type": "execute_result",
          "data": {
            "text/plain": [
              "  Year Type  Year Organization Group           Department  \\\n",
              "0  Calendar  2013  Public Protection  ADP Adult Probation   \n",
              "1  Calendar  2013  Public Protection  ADP Adult Probation   \n",
              "2  Calendar  2013  Public Protection  ADP Adult Probation   \n",
              "3  Calendar  2013  Public Protection  ADP Adult Probation   \n",
              "4  Calendar  2013  Public Protection  ADP Adult Probation   \n",
              "\n",
              "                                             Union           Job Family  \\\n",
              "0  Prof & Tech Engineers - Miscellaneous, Local 21  Information Systems   \n",
              "1  Prof & Tech Engineers - Miscellaneous, Local 21  Information Systems   \n",
              "2  Prof & Tech Engineers - Miscellaneous, Local 21  Information Systems   \n",
              "3  Prof & Tech Engineers - Miscellaneous, Local 21  Information Systems   \n",
              "4  Prof & Tech Engineers - Miscellaneous, Local 21  Information Systems   \n",
              "\n",
              "                             Job   Salaries  Overtime  Other Salaries  \\\n",
              "0             IS Administrator 1   57534.65       0.0            0.00   \n",
              "1             IS Administrator 3   57678.50       0.0            0.00   \n",
              "2           IS Trainer-Assistant   63532.93       0.0            0.00   \n",
              "3  IS Business Analyst-Principal  101274.51       0.0        -7058.59   \n",
              "4          IS Programmer Analyst    5084.00       0.0            0.00   \n",
              "\n",
              "   Retirement  Health and Dental  Other Benefits  Total Compensation  \n",
              "0    11253.16           11961.34         4532.63            85281.78  \n",
              "1    10284.88            7176.80         4755.14            79895.32  \n",
              "2    12495.83           12918.24         4702.71            93649.71  \n",
              "3    19644.45           12918.24         7458.76           134237.37  \n",
              "4     1083.90             956.91          387.50             7512.31  "
            ],
            "text/html": [
              "\n",
              "  <div id=\"df-0709bbdd-7467-4dd7-b0a1-bb698da26b0b\">\n",
              "    <div class=\"colab-df-container\">\n",
              "      <div>\n",
              "<style scoped>\n",
              "    .dataframe tbody tr th:only-of-type {\n",
              "        vertical-align: middle;\n",
              "    }\n",
              "\n",
              "    .dataframe tbody tr th {\n",
              "        vertical-align: top;\n",
              "    }\n",
              "\n",
              "    .dataframe thead th {\n",
              "        text-align: right;\n",
              "    }\n",
              "</style>\n",
              "<table border=\"1\" class=\"dataframe\">\n",
              "  <thead>\n",
              "    <tr style=\"text-align: right;\">\n",
              "      <th></th>\n",
              "      <th>Year Type</th>\n",
              "      <th>Year</th>\n",
              "      <th>Organization Group</th>\n",
              "      <th>Department</th>\n",
              "      <th>Union</th>\n",
              "      <th>Job Family</th>\n",
              "      <th>Job</th>\n",
              "      <th>Salaries</th>\n",
              "      <th>Overtime</th>\n",
              "      <th>Other Salaries</th>\n",
              "      <th>Retirement</th>\n",
              "      <th>Health and Dental</th>\n",
              "      <th>Other Benefits</th>\n",
              "      <th>Total Compensation</th>\n",
              "    </tr>\n",
              "  </thead>\n",
              "  <tbody>\n",
              "    <tr>\n",
              "      <th>0</th>\n",
              "      <td>Calendar</td>\n",
              "      <td>2013</td>\n",
              "      <td>Public Protection</td>\n",
              "      <td>ADP Adult Probation</td>\n",
              "      <td>Prof &amp; Tech Engineers - Miscellaneous, Local 21</td>\n",
              "      <td>Information Systems</td>\n",
              "      <td>IS Administrator 1</td>\n",
              "      <td>57534.65</td>\n",
              "      <td>0.0</td>\n",
              "      <td>0.00</td>\n",
              "      <td>11253.16</td>\n",
              "      <td>11961.34</td>\n",
              "      <td>4532.63</td>\n",
              "      <td>85281.78</td>\n",
              "    </tr>\n",
              "    <tr>\n",
              "      <th>1</th>\n",
              "      <td>Calendar</td>\n",
              "      <td>2013</td>\n",
              "      <td>Public Protection</td>\n",
              "      <td>ADP Adult Probation</td>\n",
              "      <td>Prof &amp; Tech Engineers - Miscellaneous, Local 21</td>\n",
              "      <td>Information Systems</td>\n",
              "      <td>IS Administrator 3</td>\n",
              "      <td>57678.50</td>\n",
              "      <td>0.0</td>\n",
              "      <td>0.00</td>\n",
              "      <td>10284.88</td>\n",
              "      <td>7176.80</td>\n",
              "      <td>4755.14</td>\n",
              "      <td>79895.32</td>\n",
              "    </tr>\n",
              "    <tr>\n",
              "      <th>2</th>\n",
              "      <td>Calendar</td>\n",
              "      <td>2013</td>\n",
              "      <td>Public Protection</td>\n",
              "      <td>ADP Adult Probation</td>\n",
              "      <td>Prof &amp; Tech Engineers - Miscellaneous, Local 21</td>\n",
              "      <td>Information Systems</td>\n",
              "      <td>IS Trainer-Assistant</td>\n",
              "      <td>63532.93</td>\n",
              "      <td>0.0</td>\n",
              "      <td>0.00</td>\n",
              "      <td>12495.83</td>\n",
              "      <td>12918.24</td>\n",
              "      <td>4702.71</td>\n",
              "      <td>93649.71</td>\n",
              "    </tr>\n",
              "    <tr>\n",
              "      <th>3</th>\n",
              "      <td>Calendar</td>\n",
              "      <td>2013</td>\n",
              "      <td>Public Protection</td>\n",
              "      <td>ADP Adult Probation</td>\n",
              "      <td>Prof &amp; Tech Engineers - Miscellaneous, Local 21</td>\n",
              "      <td>Information Systems</td>\n",
              "      <td>IS Business Analyst-Principal</td>\n",
              "      <td>101274.51</td>\n",
              "      <td>0.0</td>\n",
              "      <td>-7058.59</td>\n",
              "      <td>19644.45</td>\n",
              "      <td>12918.24</td>\n",
              "      <td>7458.76</td>\n",
              "      <td>134237.37</td>\n",
              "    </tr>\n",
              "    <tr>\n",
              "      <th>4</th>\n",
              "      <td>Calendar</td>\n",
              "      <td>2013</td>\n",
              "      <td>Public Protection</td>\n",
              "      <td>ADP Adult Probation</td>\n",
              "      <td>Prof &amp; Tech Engineers - Miscellaneous, Local 21</td>\n",
              "      <td>Information Systems</td>\n",
              "      <td>IS Programmer Analyst</td>\n",
              "      <td>5084.00</td>\n",
              "      <td>0.0</td>\n",
              "      <td>0.00</td>\n",
              "      <td>1083.90</td>\n",
              "      <td>956.91</td>\n",
              "      <td>387.50</td>\n",
              "      <td>7512.31</td>\n",
              "    </tr>\n",
              "  </tbody>\n",
              "</table>\n",
              "</div>\n",
              "      <button class=\"colab-df-convert\" onclick=\"convertToInteractive('df-0709bbdd-7467-4dd7-b0a1-bb698da26b0b')\"\n",
              "              title=\"Convert this dataframe to an interactive table.\"\n",
              "              style=\"display:none;\">\n",
              "        \n",
              "  <svg xmlns=\"http://www.w3.org/2000/svg\" height=\"24px\"viewBox=\"0 0 24 24\"\n",
              "       width=\"24px\">\n",
              "    <path d=\"M0 0h24v24H0V0z\" fill=\"none\"/>\n",
              "    <path d=\"M18.56 5.44l.94 2.06.94-2.06 2.06-.94-2.06-.94-.94-2.06-.94 2.06-2.06.94zm-11 1L8.5 8.5l.94-2.06 2.06-.94-2.06-.94L8.5 2.5l-.94 2.06-2.06.94zm10 10l.94 2.06.94-2.06 2.06-.94-2.06-.94-.94-2.06-.94 2.06-2.06.94z\"/><path d=\"M17.41 7.96l-1.37-1.37c-.4-.4-.92-.59-1.43-.59-.52 0-1.04.2-1.43.59L10.3 9.45l-7.72 7.72c-.78.78-.78 2.05 0 2.83L4 21.41c.39.39.9.59 1.41.59.51 0 1.02-.2 1.41-.59l7.78-7.78 2.81-2.81c.8-.78.8-2.07 0-2.86zM5.41 20L4 18.59l7.72-7.72 1.47 1.35L5.41 20z\"/>\n",
              "  </svg>\n",
              "      </button>\n",
              "      \n",
              "  <style>\n",
              "    .colab-df-container {\n",
              "      display:flex;\n",
              "      flex-wrap:wrap;\n",
              "      gap: 12px;\n",
              "    }\n",
              "\n",
              "    .colab-df-convert {\n",
              "      background-color: #E8F0FE;\n",
              "      border: none;\n",
              "      border-radius: 50%;\n",
              "      cursor: pointer;\n",
              "      display: none;\n",
              "      fill: #1967D2;\n",
              "      height: 32px;\n",
              "      padding: 0 0 0 0;\n",
              "      width: 32px;\n",
              "    }\n",
              "\n",
              "    .colab-df-convert:hover {\n",
              "      background-color: #E2EBFA;\n",
              "      box-shadow: 0px 1px 2px rgba(60, 64, 67, 0.3), 0px 1px 3px 1px rgba(60, 64, 67, 0.15);\n",
              "      fill: #174EA6;\n",
              "    }\n",
              "\n",
              "    [theme=dark] .colab-df-convert {\n",
              "      background-color: #3B4455;\n",
              "      fill: #D2E3FC;\n",
              "    }\n",
              "\n",
              "    [theme=dark] .colab-df-convert:hover {\n",
              "      background-color: #434B5C;\n",
              "      box-shadow: 0px 1px 3px 1px rgba(0, 0, 0, 0.15);\n",
              "      filter: drop-shadow(0px 1px 2px rgba(0, 0, 0, 0.3));\n",
              "      fill: #FFFFFF;\n",
              "    }\n",
              "  </style>\n",
              "\n",
              "      <script>\n",
              "        const buttonEl =\n",
              "          document.querySelector('#df-0709bbdd-7467-4dd7-b0a1-bb698da26b0b button.colab-df-convert');\n",
              "        buttonEl.style.display =\n",
              "          google.colab.kernel.accessAllowed ? 'block' : 'none';\n",
              "\n",
              "        async function convertToInteractive(key) {\n",
              "          const element = document.querySelector('#df-0709bbdd-7467-4dd7-b0a1-bb698da26b0b');\n",
              "          const dataTable =\n",
              "            await google.colab.kernel.invokeFunction('convertToInteractive',\n",
              "                                                     [key], {});\n",
              "          if (!dataTable) return;\n",
              "\n",
              "          const docLinkHtml = 'Like what you see? Visit the ' +\n",
              "            '<a target=\"_blank\" href=https://colab.research.google.com/notebooks/data_table.ipynb>data table notebook</a>'\n",
              "            + ' to learn more about interactive tables.';\n",
              "          element.innerHTML = '';\n",
              "          dataTable['output_type'] = 'display_data';\n",
              "          await google.colab.output.renderOutput(dataTable, element);\n",
              "          const docLink = document.createElement('div');\n",
              "          docLink.innerHTML = docLinkHtml;\n",
              "          element.appendChild(docLink);\n",
              "        }\n",
              "      </script>\n",
              "    </div>\n",
              "  </div>\n",
              "  "
            ]
          },
          "metadata": {},
          "execution_count": 112
        }
      ]
    },
    {
      "cell_type": "code",
      "source": [
        "df.shape"
      ],
      "metadata": {
        "colab": {
          "base_uri": "https://localhost:8080/"
        },
        "id": "EQbowCCgoetQ",
        "outputId": "ff8ae0eb-847b-43f8-ce9d-c7a08eed4eb3"
      },
      "execution_count": 113,
      "outputs": [
        {
          "output_type": "execute_result",
          "data": {
            "text/plain": [
              "(678524, 14)"
            ]
          },
          "metadata": {},
          "execution_count": 113
        }
      ]
    },
    {
      "cell_type": "code",
      "source": [
        "df.dtypes"
      ],
      "metadata": {
        "colab": {
          "base_uri": "https://localhost:8080/"
        },
        "id": "3wc9Ie-Ro0bl",
        "outputId": "73074a03-ae04-46dc-8d70-7b51d3aaae1e"
      },
      "execution_count": 114,
      "outputs": [
        {
          "output_type": "execute_result",
          "data": {
            "text/plain": [
              "Year Type              object\n",
              "Year                    int64\n",
              "Organization Group     object\n",
              "Department             object\n",
              "Union                  object\n",
              "Job Family             object\n",
              "Job                    object\n",
              "Salaries              float64\n",
              "Overtime              float64\n",
              "Other Salaries        float64\n",
              "Retirement            float64\n",
              "Health and Dental     float64\n",
              "Other Benefits        float64\n",
              "Total Compensation    float64\n",
              "dtype: object"
            ]
          },
          "metadata": {},
          "execution_count": 114
        }
      ]
    },
    {
      "cell_type": "code",
      "source": [
        "col_name=df.columns\n",
        "for i in col_name:\n",
        "    print(i,'has :',df[i].nunique(),\"Unique values\")"
      ],
      "metadata": {
        "colab": {
          "base_uri": "https://localhost:8080/"
        },
        "id": "utdjVK1Lo_Bk",
        "outputId": "114882fb-7a72-48c0-8de8-28f9c848fbf8"
      },
      "execution_count": 115,
      "outputs": [
        {
          "output_type": "stream",
          "name": "stdout",
          "text": [
            "Year Type has : 2 Unique values\n",
            "Year has : 8 Unique values\n",
            "Organization Group has : 7 Unique values\n",
            "Department has : 109 Unique values\n",
            "Union has : 128 Unique values\n",
            "Job Family has : 59 Unique values\n",
            "Job has : 1349 Unique values\n",
            "Salaries has : 497610 Unique values\n",
            "Overtime has : 266218 Unique values\n",
            "Other Salaries has : 307561 Unique values\n",
            "Retirement has : 452677 Unique values\n",
            "Health and Dental has : 208405 Unique values\n",
            "Other Benefits has : 495763 Unique values\n",
            "Total Compensation has : 654483 Unique values\n"
          ]
        }
      ]
    },
    {
      "cell_type": "code",
      "source": [
        "from sklearn.preprocessing import LabelEncoder"
      ],
      "metadata": {
        "id": "V5LRakN_qywY"
      },
      "execution_count": 116,
      "outputs": []
    },
    {
      "cell_type": "code",
      "source": [
        "encoder = LabelEncoder()"
      ],
      "metadata": {
        "id": "8z_JPdbnq23w"
      },
      "execution_count": 117,
      "outputs": []
    },
    {
      "cell_type": "code",
      "source": [
        "df = df.apply(encoder.fit_transform)"
      ],
      "metadata": {
        "id": "zSa0aoWYq4JA"
      },
      "execution_count": 118,
      "outputs": []
    },
    {
      "cell_type": "code",
      "source": [
        "df.head()"
      ],
      "metadata": {
        "colab": {
          "base_uri": "https://localhost:8080/",
          "height": 250
        },
        "id": "b6fm820Lq5YI",
        "outputId": "32136af3-4e31-4338-8cb5-f42dda2ac178"
      },
      "execution_count": 119,
      "outputs": [
        {
          "output_type": "execute_result",
          "data": {
            "text/plain": [
              "   Year Type  Year  Organization Group  Department  Union  Job Family  Job  \\\n",
              "0          0     0                   5           2     87          23  594   \n",
              "1          0     0                   5           2     87          23  596   \n",
              "2          0     0                   5           2     87          23  618   \n",
              "3          0     0                   5           2     87          23  600   \n",
              "4          0     0                   5           2     87          23  612   \n",
              "\n",
              "   Salaries  Overtime  Other Salaries  Retirement  Health and Dental  \\\n",
              "0    202661        40              91      124397             109734   \n",
              "1    203301        40              91      108722              58626   \n",
              "2    230372        40              91      152132             132578   \n",
              "3    378539        40               3      310087             132578   \n",
              "4     33063        40              91       15535               8434   \n",
              "\n",
              "   Other Benefits  Total Compensation  \n",
              "0          210595              225108  \n",
              "1          220011              210994  \n",
              "2          217696              255185  \n",
              "3          347221              418686  \n",
              "4           27397               51057  "
            ],
            "text/html": [
              "\n",
              "  <div id=\"df-11cb78dc-2789-4a97-9022-9e4f91eed71b\">\n",
              "    <div class=\"colab-df-container\">\n",
              "      <div>\n",
              "<style scoped>\n",
              "    .dataframe tbody tr th:only-of-type {\n",
              "        vertical-align: middle;\n",
              "    }\n",
              "\n",
              "    .dataframe tbody tr th {\n",
              "        vertical-align: top;\n",
              "    }\n",
              "\n",
              "    .dataframe thead th {\n",
              "        text-align: right;\n",
              "    }\n",
              "</style>\n",
              "<table border=\"1\" class=\"dataframe\">\n",
              "  <thead>\n",
              "    <tr style=\"text-align: right;\">\n",
              "      <th></th>\n",
              "      <th>Year Type</th>\n",
              "      <th>Year</th>\n",
              "      <th>Organization Group</th>\n",
              "      <th>Department</th>\n",
              "      <th>Union</th>\n",
              "      <th>Job Family</th>\n",
              "      <th>Job</th>\n",
              "      <th>Salaries</th>\n",
              "      <th>Overtime</th>\n",
              "      <th>Other Salaries</th>\n",
              "      <th>Retirement</th>\n",
              "      <th>Health and Dental</th>\n",
              "      <th>Other Benefits</th>\n",
              "      <th>Total Compensation</th>\n",
              "    </tr>\n",
              "  </thead>\n",
              "  <tbody>\n",
              "    <tr>\n",
              "      <th>0</th>\n",
              "      <td>0</td>\n",
              "      <td>0</td>\n",
              "      <td>5</td>\n",
              "      <td>2</td>\n",
              "      <td>87</td>\n",
              "      <td>23</td>\n",
              "      <td>594</td>\n",
              "      <td>202661</td>\n",
              "      <td>40</td>\n",
              "      <td>91</td>\n",
              "      <td>124397</td>\n",
              "      <td>109734</td>\n",
              "      <td>210595</td>\n",
              "      <td>225108</td>\n",
              "    </tr>\n",
              "    <tr>\n",
              "      <th>1</th>\n",
              "      <td>0</td>\n",
              "      <td>0</td>\n",
              "      <td>5</td>\n",
              "      <td>2</td>\n",
              "      <td>87</td>\n",
              "      <td>23</td>\n",
              "      <td>596</td>\n",
              "      <td>203301</td>\n",
              "      <td>40</td>\n",
              "      <td>91</td>\n",
              "      <td>108722</td>\n",
              "      <td>58626</td>\n",
              "      <td>220011</td>\n",
              "      <td>210994</td>\n",
              "    </tr>\n",
              "    <tr>\n",
              "      <th>2</th>\n",
              "      <td>0</td>\n",
              "      <td>0</td>\n",
              "      <td>5</td>\n",
              "      <td>2</td>\n",
              "      <td>87</td>\n",
              "      <td>23</td>\n",
              "      <td>618</td>\n",
              "      <td>230372</td>\n",
              "      <td>40</td>\n",
              "      <td>91</td>\n",
              "      <td>152132</td>\n",
              "      <td>132578</td>\n",
              "      <td>217696</td>\n",
              "      <td>255185</td>\n",
              "    </tr>\n",
              "    <tr>\n",
              "      <th>3</th>\n",
              "      <td>0</td>\n",
              "      <td>0</td>\n",
              "      <td>5</td>\n",
              "      <td>2</td>\n",
              "      <td>87</td>\n",
              "      <td>23</td>\n",
              "      <td>600</td>\n",
              "      <td>378539</td>\n",
              "      <td>40</td>\n",
              "      <td>3</td>\n",
              "      <td>310087</td>\n",
              "      <td>132578</td>\n",
              "      <td>347221</td>\n",
              "      <td>418686</td>\n",
              "    </tr>\n",
              "    <tr>\n",
              "      <th>4</th>\n",
              "      <td>0</td>\n",
              "      <td>0</td>\n",
              "      <td>5</td>\n",
              "      <td>2</td>\n",
              "      <td>87</td>\n",
              "      <td>23</td>\n",
              "      <td>612</td>\n",
              "      <td>33063</td>\n",
              "      <td>40</td>\n",
              "      <td>91</td>\n",
              "      <td>15535</td>\n",
              "      <td>8434</td>\n",
              "      <td>27397</td>\n",
              "      <td>51057</td>\n",
              "    </tr>\n",
              "  </tbody>\n",
              "</table>\n",
              "</div>\n",
              "      <button class=\"colab-df-convert\" onclick=\"convertToInteractive('df-11cb78dc-2789-4a97-9022-9e4f91eed71b')\"\n",
              "              title=\"Convert this dataframe to an interactive table.\"\n",
              "              style=\"display:none;\">\n",
              "        \n",
              "  <svg xmlns=\"http://www.w3.org/2000/svg\" height=\"24px\"viewBox=\"0 0 24 24\"\n",
              "       width=\"24px\">\n",
              "    <path d=\"M0 0h24v24H0V0z\" fill=\"none\"/>\n",
              "    <path d=\"M18.56 5.44l.94 2.06.94-2.06 2.06-.94-2.06-.94-.94-2.06-.94 2.06-2.06.94zm-11 1L8.5 8.5l.94-2.06 2.06-.94-2.06-.94L8.5 2.5l-.94 2.06-2.06.94zm10 10l.94 2.06.94-2.06 2.06-.94-2.06-.94-.94-2.06-.94 2.06-2.06.94z\"/><path d=\"M17.41 7.96l-1.37-1.37c-.4-.4-.92-.59-1.43-.59-.52 0-1.04.2-1.43.59L10.3 9.45l-7.72 7.72c-.78.78-.78 2.05 0 2.83L4 21.41c.39.39.9.59 1.41.59.51 0 1.02-.2 1.41-.59l7.78-7.78 2.81-2.81c.8-.78.8-2.07 0-2.86zM5.41 20L4 18.59l7.72-7.72 1.47 1.35L5.41 20z\"/>\n",
              "  </svg>\n",
              "      </button>\n",
              "      \n",
              "  <style>\n",
              "    .colab-df-container {\n",
              "      display:flex;\n",
              "      flex-wrap:wrap;\n",
              "      gap: 12px;\n",
              "    }\n",
              "\n",
              "    .colab-df-convert {\n",
              "      background-color: #E8F0FE;\n",
              "      border: none;\n",
              "      border-radius: 50%;\n",
              "      cursor: pointer;\n",
              "      display: none;\n",
              "      fill: #1967D2;\n",
              "      height: 32px;\n",
              "      padding: 0 0 0 0;\n",
              "      width: 32px;\n",
              "    }\n",
              "\n",
              "    .colab-df-convert:hover {\n",
              "      background-color: #E2EBFA;\n",
              "      box-shadow: 0px 1px 2px rgba(60, 64, 67, 0.3), 0px 1px 3px 1px rgba(60, 64, 67, 0.15);\n",
              "      fill: #174EA6;\n",
              "    }\n",
              "\n",
              "    [theme=dark] .colab-df-convert {\n",
              "      background-color: #3B4455;\n",
              "      fill: #D2E3FC;\n",
              "    }\n",
              "\n",
              "    [theme=dark] .colab-df-convert:hover {\n",
              "      background-color: #434B5C;\n",
              "      box-shadow: 0px 1px 3px 1px rgba(0, 0, 0, 0.15);\n",
              "      filter: drop-shadow(0px 1px 2px rgba(0, 0, 0, 0.3));\n",
              "      fill: #FFFFFF;\n",
              "    }\n",
              "  </style>\n",
              "\n",
              "      <script>\n",
              "        const buttonEl =\n",
              "          document.querySelector('#df-11cb78dc-2789-4a97-9022-9e4f91eed71b button.colab-df-convert');\n",
              "        buttonEl.style.display =\n",
              "          google.colab.kernel.accessAllowed ? 'block' : 'none';\n",
              "\n",
              "        async function convertToInteractive(key) {\n",
              "          const element = document.querySelector('#df-11cb78dc-2789-4a97-9022-9e4f91eed71b');\n",
              "          const dataTable =\n",
              "            await google.colab.kernel.invokeFunction('convertToInteractive',\n",
              "                                                     [key], {});\n",
              "          if (!dataTable) return;\n",
              "\n",
              "          const docLinkHtml = 'Like what you see? Visit the ' +\n",
              "            '<a target=\"_blank\" href=https://colab.research.google.com/notebooks/data_table.ipynb>data table notebook</a>'\n",
              "            + ' to learn more about interactive tables.';\n",
              "          element.innerHTML = '';\n",
              "          dataTable['output_type'] = 'display_data';\n",
              "          await google.colab.output.renderOutput(dataTable, element);\n",
              "          const docLink = document.createElement('div');\n",
              "          docLink.innerHTML = docLinkHtml;\n",
              "          element.appendChild(docLink);\n",
              "        }\n",
              "      </script>\n",
              "    </div>\n",
              "  </div>\n",
              "  "
            ]
          },
          "metadata": {},
          "execution_count": 119
        }
      ]
    },
    {
      "cell_type": "code",
      "source": [
        "df.dtypes"
      ],
      "metadata": {
        "colab": {
          "base_uri": "https://localhost:8080/"
        },
        "id": "pvoMChojrVLp",
        "outputId": "34389388-f6bc-4fa8-d9f6-d293ef871300"
      },
      "execution_count": 120,
      "outputs": [
        {
          "output_type": "execute_result",
          "data": {
            "text/plain": [
              "Year Type             int64\n",
              "Year                  int64\n",
              "Organization Group    int64\n",
              "Department            int64\n",
              "Union                 int64\n",
              "Job Family            int64\n",
              "Job                   int64\n",
              "Salaries              int64\n",
              "Overtime              int64\n",
              "Other Salaries        int64\n",
              "Retirement            int64\n",
              "Health and Dental     int64\n",
              "Other Benefits        int64\n",
              "Total Compensation    int64\n",
              "dtype: object"
            ]
          },
          "metadata": {},
          "execution_count": 120
        }
      ]
    },
    {
      "cell_type": "code",
      "source": [
        "df.describe()"
      ],
      "metadata": {
        "colab": {
          "base_uri": "https://localhost:8080/",
          "height": 382
        },
        "id": "ovXR8HHWrY9k",
        "outputId": "8a6634f5-a0e0-43ff-e363-4eb4c688b052"
      },
      "execution_count": 121,
      "outputs": [
        {
          "output_type": "execute_result",
          "data": {
            "text/plain": [
              "           Year Type           Year  Organization Group    Department  \\\n",
              "count  678524.000000  678524.000000       678524.000000  678524.00000   \n",
              "mean        0.500233       3.541192            3.486463      64.76965   \n",
              "std         0.500000       2.268684            2.429252      27.51503   \n",
              "min         0.000000       0.000000            0.000000       0.00000   \n",
              "25%         0.000000       2.000000            1.000000      39.00000   \n",
              "50%         1.000000       4.000000            5.000000      76.00000   \n",
              "75%         1.000000       6.000000            6.000000      87.00000   \n",
              "max         1.000000       7.000000            6.000000     108.00000   \n",
              "\n",
              "               Union     Job Family            Job       Salaries  \\\n",
              "count  678524.000000  678524.000000  678524.000000  678524.000000   \n",
              "mean       84.377452      31.298295     770.258514  251245.213838   \n",
              "std        25.220929      14.525380     344.660567  147685.800467   \n",
              "min         0.000000       0.000000       0.000000       0.000000   \n",
              "25%        80.000000      22.000000     522.000000  122988.750000   \n",
              "50%        95.000000      33.000000     836.000000  259969.500000   \n",
              "75%        98.000000      42.000000    1018.000000  380061.250000   \n",
              "max       127.000000      58.000000    1348.000000  497609.000000   \n",
              "\n",
              "            Overtime  Other Salaries     Retirement  Health and Dental  \\\n",
              "count  678524.000000   678524.000000  678524.000000      678524.000000   \n",
              "mean    55246.323168    83903.711219  196703.821350      106090.094464   \n",
              "std     80548.212168    94957.458027  145183.655763       67067.766944   \n",
              "min         0.000000        0.000000       0.000000           0.000000   \n",
              "25%        40.000000       91.000000   55293.750000       40878.750000   \n",
              "50%        40.000000    43030.000000  195492.500000      122788.000000   \n",
              "75%    101693.250000   152938.250000  326072.250000      163917.250000   \n",
              "max    266217.000000   307560.000000  452676.000000      208404.000000   \n",
              "\n",
              "       Other Benefits  Total Compensation  \n",
              "count   678524.000000       678524.000000  \n",
              "mean    230431.017106       321158.702855  \n",
              "std     145742.049665       191237.228087  \n",
              "min          0.000000            0.000000  \n",
              "25%     101598.750000       154428.750000  \n",
              "50%     229727.500000       320653.500000  \n",
              "75%     353703.250000       486496.250000  \n",
              "max     495762.000000       654482.000000  "
            ],
            "text/html": [
              "\n",
              "  <div id=\"df-3462d4f7-08a2-401d-8fde-480b906282ac\">\n",
              "    <div class=\"colab-df-container\">\n",
              "      <div>\n",
              "<style scoped>\n",
              "    .dataframe tbody tr th:only-of-type {\n",
              "        vertical-align: middle;\n",
              "    }\n",
              "\n",
              "    .dataframe tbody tr th {\n",
              "        vertical-align: top;\n",
              "    }\n",
              "\n",
              "    .dataframe thead th {\n",
              "        text-align: right;\n",
              "    }\n",
              "</style>\n",
              "<table border=\"1\" class=\"dataframe\">\n",
              "  <thead>\n",
              "    <tr style=\"text-align: right;\">\n",
              "      <th></th>\n",
              "      <th>Year Type</th>\n",
              "      <th>Year</th>\n",
              "      <th>Organization Group</th>\n",
              "      <th>Department</th>\n",
              "      <th>Union</th>\n",
              "      <th>Job Family</th>\n",
              "      <th>Job</th>\n",
              "      <th>Salaries</th>\n",
              "      <th>Overtime</th>\n",
              "      <th>Other Salaries</th>\n",
              "      <th>Retirement</th>\n",
              "      <th>Health and Dental</th>\n",
              "      <th>Other Benefits</th>\n",
              "      <th>Total Compensation</th>\n",
              "    </tr>\n",
              "  </thead>\n",
              "  <tbody>\n",
              "    <tr>\n",
              "      <th>count</th>\n",
              "      <td>678524.000000</td>\n",
              "      <td>678524.000000</td>\n",
              "      <td>678524.000000</td>\n",
              "      <td>678524.00000</td>\n",
              "      <td>678524.000000</td>\n",
              "      <td>678524.000000</td>\n",
              "      <td>678524.000000</td>\n",
              "      <td>678524.000000</td>\n",
              "      <td>678524.000000</td>\n",
              "      <td>678524.000000</td>\n",
              "      <td>678524.000000</td>\n",
              "      <td>678524.000000</td>\n",
              "      <td>678524.000000</td>\n",
              "      <td>678524.000000</td>\n",
              "    </tr>\n",
              "    <tr>\n",
              "      <th>mean</th>\n",
              "      <td>0.500233</td>\n",
              "      <td>3.541192</td>\n",
              "      <td>3.486463</td>\n",
              "      <td>64.76965</td>\n",
              "      <td>84.377452</td>\n",
              "      <td>31.298295</td>\n",
              "      <td>770.258514</td>\n",
              "      <td>251245.213838</td>\n",
              "      <td>55246.323168</td>\n",
              "      <td>83903.711219</td>\n",
              "      <td>196703.821350</td>\n",
              "      <td>106090.094464</td>\n",
              "      <td>230431.017106</td>\n",
              "      <td>321158.702855</td>\n",
              "    </tr>\n",
              "    <tr>\n",
              "      <th>std</th>\n",
              "      <td>0.500000</td>\n",
              "      <td>2.268684</td>\n",
              "      <td>2.429252</td>\n",
              "      <td>27.51503</td>\n",
              "      <td>25.220929</td>\n",
              "      <td>14.525380</td>\n",
              "      <td>344.660567</td>\n",
              "      <td>147685.800467</td>\n",
              "      <td>80548.212168</td>\n",
              "      <td>94957.458027</td>\n",
              "      <td>145183.655763</td>\n",
              "      <td>67067.766944</td>\n",
              "      <td>145742.049665</td>\n",
              "      <td>191237.228087</td>\n",
              "    </tr>\n",
              "    <tr>\n",
              "      <th>min</th>\n",
              "      <td>0.000000</td>\n",
              "      <td>0.000000</td>\n",
              "      <td>0.000000</td>\n",
              "      <td>0.00000</td>\n",
              "      <td>0.000000</td>\n",
              "      <td>0.000000</td>\n",
              "      <td>0.000000</td>\n",
              "      <td>0.000000</td>\n",
              "      <td>0.000000</td>\n",
              "      <td>0.000000</td>\n",
              "      <td>0.000000</td>\n",
              "      <td>0.000000</td>\n",
              "      <td>0.000000</td>\n",
              "      <td>0.000000</td>\n",
              "    </tr>\n",
              "    <tr>\n",
              "      <th>25%</th>\n",
              "      <td>0.000000</td>\n",
              "      <td>2.000000</td>\n",
              "      <td>1.000000</td>\n",
              "      <td>39.00000</td>\n",
              "      <td>80.000000</td>\n",
              "      <td>22.000000</td>\n",
              "      <td>522.000000</td>\n",
              "      <td>122988.750000</td>\n",
              "      <td>40.000000</td>\n",
              "      <td>91.000000</td>\n",
              "      <td>55293.750000</td>\n",
              "      <td>40878.750000</td>\n",
              "      <td>101598.750000</td>\n",
              "      <td>154428.750000</td>\n",
              "    </tr>\n",
              "    <tr>\n",
              "      <th>50%</th>\n",
              "      <td>1.000000</td>\n",
              "      <td>4.000000</td>\n",
              "      <td>5.000000</td>\n",
              "      <td>76.00000</td>\n",
              "      <td>95.000000</td>\n",
              "      <td>33.000000</td>\n",
              "      <td>836.000000</td>\n",
              "      <td>259969.500000</td>\n",
              "      <td>40.000000</td>\n",
              "      <td>43030.000000</td>\n",
              "      <td>195492.500000</td>\n",
              "      <td>122788.000000</td>\n",
              "      <td>229727.500000</td>\n",
              "      <td>320653.500000</td>\n",
              "    </tr>\n",
              "    <tr>\n",
              "      <th>75%</th>\n",
              "      <td>1.000000</td>\n",
              "      <td>6.000000</td>\n",
              "      <td>6.000000</td>\n",
              "      <td>87.00000</td>\n",
              "      <td>98.000000</td>\n",
              "      <td>42.000000</td>\n",
              "      <td>1018.000000</td>\n",
              "      <td>380061.250000</td>\n",
              "      <td>101693.250000</td>\n",
              "      <td>152938.250000</td>\n",
              "      <td>326072.250000</td>\n",
              "      <td>163917.250000</td>\n",
              "      <td>353703.250000</td>\n",
              "      <td>486496.250000</td>\n",
              "    </tr>\n",
              "    <tr>\n",
              "      <th>max</th>\n",
              "      <td>1.000000</td>\n",
              "      <td>7.000000</td>\n",
              "      <td>6.000000</td>\n",
              "      <td>108.00000</td>\n",
              "      <td>127.000000</td>\n",
              "      <td>58.000000</td>\n",
              "      <td>1348.000000</td>\n",
              "      <td>497609.000000</td>\n",
              "      <td>266217.000000</td>\n",
              "      <td>307560.000000</td>\n",
              "      <td>452676.000000</td>\n",
              "      <td>208404.000000</td>\n",
              "      <td>495762.000000</td>\n",
              "      <td>654482.000000</td>\n",
              "    </tr>\n",
              "  </tbody>\n",
              "</table>\n",
              "</div>\n",
              "      <button class=\"colab-df-convert\" onclick=\"convertToInteractive('df-3462d4f7-08a2-401d-8fde-480b906282ac')\"\n",
              "              title=\"Convert this dataframe to an interactive table.\"\n",
              "              style=\"display:none;\">\n",
              "        \n",
              "  <svg xmlns=\"http://www.w3.org/2000/svg\" height=\"24px\"viewBox=\"0 0 24 24\"\n",
              "       width=\"24px\">\n",
              "    <path d=\"M0 0h24v24H0V0z\" fill=\"none\"/>\n",
              "    <path d=\"M18.56 5.44l.94 2.06.94-2.06 2.06-.94-2.06-.94-.94-2.06-.94 2.06-2.06.94zm-11 1L8.5 8.5l.94-2.06 2.06-.94-2.06-.94L8.5 2.5l-.94 2.06-2.06.94zm10 10l.94 2.06.94-2.06 2.06-.94-2.06-.94-.94-2.06-.94 2.06-2.06.94z\"/><path d=\"M17.41 7.96l-1.37-1.37c-.4-.4-.92-.59-1.43-.59-.52 0-1.04.2-1.43.59L10.3 9.45l-7.72 7.72c-.78.78-.78 2.05 0 2.83L4 21.41c.39.39.9.59 1.41.59.51 0 1.02-.2 1.41-.59l7.78-7.78 2.81-2.81c.8-.78.8-2.07 0-2.86zM5.41 20L4 18.59l7.72-7.72 1.47 1.35L5.41 20z\"/>\n",
              "  </svg>\n",
              "      </button>\n",
              "      \n",
              "  <style>\n",
              "    .colab-df-container {\n",
              "      display:flex;\n",
              "      flex-wrap:wrap;\n",
              "      gap: 12px;\n",
              "    }\n",
              "\n",
              "    .colab-df-convert {\n",
              "      background-color: #E8F0FE;\n",
              "      border: none;\n",
              "      border-radius: 50%;\n",
              "      cursor: pointer;\n",
              "      display: none;\n",
              "      fill: #1967D2;\n",
              "      height: 32px;\n",
              "      padding: 0 0 0 0;\n",
              "      width: 32px;\n",
              "    }\n",
              "\n",
              "    .colab-df-convert:hover {\n",
              "      background-color: #E2EBFA;\n",
              "      box-shadow: 0px 1px 2px rgba(60, 64, 67, 0.3), 0px 1px 3px 1px rgba(60, 64, 67, 0.15);\n",
              "      fill: #174EA6;\n",
              "    }\n",
              "\n",
              "    [theme=dark] .colab-df-convert {\n",
              "      background-color: #3B4455;\n",
              "      fill: #D2E3FC;\n",
              "    }\n",
              "\n",
              "    [theme=dark] .colab-df-convert:hover {\n",
              "      background-color: #434B5C;\n",
              "      box-shadow: 0px 1px 3px 1px rgba(0, 0, 0, 0.15);\n",
              "      filter: drop-shadow(0px 1px 2px rgba(0, 0, 0, 0.3));\n",
              "      fill: #FFFFFF;\n",
              "    }\n",
              "  </style>\n",
              "\n",
              "      <script>\n",
              "        const buttonEl =\n",
              "          document.querySelector('#df-3462d4f7-08a2-401d-8fde-480b906282ac button.colab-df-convert');\n",
              "        buttonEl.style.display =\n",
              "          google.colab.kernel.accessAllowed ? 'block' : 'none';\n",
              "\n",
              "        async function convertToInteractive(key) {\n",
              "          const element = document.querySelector('#df-3462d4f7-08a2-401d-8fde-480b906282ac');\n",
              "          const dataTable =\n",
              "            await google.colab.kernel.invokeFunction('convertToInteractive',\n",
              "                                                     [key], {});\n",
              "          if (!dataTable) return;\n",
              "\n",
              "          const docLinkHtml = 'Like what you see? Visit the ' +\n",
              "            '<a target=\"_blank\" href=https://colab.research.google.com/notebooks/data_table.ipynb>data table notebook</a>'\n",
              "            + ' to learn more about interactive tables.';\n",
              "          element.innerHTML = '';\n",
              "          dataTable['output_type'] = 'display_data';\n",
              "          await google.colab.output.renderOutput(dataTable, element);\n",
              "          const docLink = document.createElement('div');\n",
              "          docLink.innerHTML = docLinkHtml;\n",
              "          element.appendChild(docLink);\n",
              "        }\n",
              "      </script>\n",
              "    </div>\n",
              "  </div>\n",
              "  "
            ]
          },
          "metadata": {},
          "execution_count": 121
        }
      ]
    },
    {
      "cell_type": "code",
      "source": [
        "sns.distplot(df['Total Compensation'])\n",
        "plt.show()"
      ],
      "metadata": {
        "colab": {
          "base_uri": "https://localhost:8080/",
          "height": 345
        },
        "id": "kl-pJHT4r3WB",
        "outputId": "bbd17e06-7978-4b67-b53d-cc512ab9a4e8"
      },
      "execution_count": 122,
      "outputs": [
        {
          "output_type": "stream",
          "name": "stderr",
          "text": [
            "/usr/local/lib/python3.7/dist-packages/seaborn/distributions.py:2619: FutureWarning: `distplot` is a deprecated function and will be removed in a future version. Please adapt your code to use either `displot` (a figure-level function with similar flexibility) or `histplot` (an axes-level function for histograms).\n",
            "  warnings.warn(msg, FutureWarning)\n"
          ]
        },
        {
          "output_type": "display_data",
          "data": {
            "text/plain": [
              "<Figure size 432x288 with 1 Axes>"
            ],
            "image/png": "[encoded data removed]"
          },
          "metadata": {
            "needs_background": "light"
          }
        }
      ]
    },
    {
      "cell_type": "code",
      "source": [
        "print(\"Skewness: %f\" % df['Total Compensation'].skew())\n",
        "print(\"Kurtosis: %f\" % df['Total Compensation'].kurt())"
      ],
      "metadata": {
        "colab": {
          "base_uri": "https://localhost:8080/"
        },
        "id": "uoFHW7uPtKcW",
        "outputId": "2848fff8-5925-4233-ee89-00e9cc199d42"
      },
      "execution_count": 123,
      "outputs": [
        {
          "output_type": "stream",
          "name": "stdout",
          "text": [
            "Skewness: 0.013964\n",
            "Kurtosis: -1.207568\n"
          ]
        }
      ]
    },
    {
      "cell_type": "code",
      "source": [
        "df.columns"
      ],
      "metadata": {
        "colab": {
          "base_uri": "https://localhost:8080/"
        },
        "id": "h_lm-81-tbpo",
        "outputId": "9cf50c2b-d32c-43a7-a47f-9bad75a9ecde"
      },
      "execution_count": 124,
      "outputs": [
        {
          "output_type": "execute_result",
          "data": {
            "text/plain": [
              "Index(['Year Type', 'Year', 'Organization Group', 'Department', 'Union',\n",
              "       'Job Family', 'Job', 'Salaries', 'Overtime', 'Other Salaries',\n",
              "       'Retirement', 'Health and Dental', 'Other Benefits',\n",
              "       'Total Compensation'],\n",
              "      dtype='object')"
            ]
          },
          "metadata": {},
          "execution_count": 124
        }
      ]
    },
    {
      "cell_type": "code",
      "source": [
        "# Importing K-Means cluster algorithm\n",
        "from sklearn.cluster import KMeans"
      ],
      "metadata": {
        "id": "AdnKNO3RBzzO"
      },
      "execution_count": 125,
      "outputs": []
    },
    {
      "cell_type": "code",
      "source": [
        "kmeans=KMeans(n_clusters=3)"
      ],
      "metadata": {
        "id": "Eb3vzpvNB-Pp"
      },
      "execution_count": 126,
      "outputs": []
    },
    {
      "cell_type": "code",
      "source": [
        "df1 = (df.drop(['Year Type', 'Year', 'Organization Group', 'Department', 'Union', 'Job Family', 'Salaries', 'Overtime', 'Other Salaries', 'Retirement', 'Health and Dental', 'Other Benefits'],axis=1))"
      ],
      "metadata": {
        "id": "RdvN6Jmrt3aF"
      },
      "execution_count": 127,
      "outputs": []
    },
    {
      "cell_type": "code",
      "source": [
        "df1"
      ],
      "metadata": {
        "colab": {
          "base_uri": "https://localhost:8080/",
          "height": 424
        },
        "id": "zCwtSXlDDY6U",
        "outputId": "edf57b3e-ecf2-44f5-e955-f2b8777a67b0"
      },
      "execution_count": 128,
      "outputs": [
        {
          "output_type": "execute_result",
          "data": {
            "text/plain": [
              "        Job  Total Compensation\n",
              "0       594              225108\n",
              "1       596              210994\n",
              "2       618              255185\n",
              "3       600              418686\n",
              "4       612               51057\n",
              "...     ...                 ...\n",
              "678519  646              446119\n",
              "678520  646               77058\n",
              "678521  646              436396\n",
              "678522  911              506291\n",
              "678523  911              508714\n",
              "\n",
              "[678524 rows x 2 columns]"
            ],
            "text/html": [
              "\n",
              "  <div id=\"df-b50cf346-e314-4a7b-8abf-c66fcbafec46\">\n",
              "    <div class=\"colab-df-container\">\n",
              "      <div>\n",
              "<style scoped>\n",
              "    .dataframe tbody tr th:only-of-type {\n",
              "        vertical-align: middle;\n",
              "    }\n",
              "\n",
              "    .dataframe tbody tr th {\n",
              "        vertical-align: top;\n",
              "    }\n",
              "\n",
              "    .dataframe thead th {\n",
              "        text-align: right;\n",
              "    }\n",
              "</style>\n",
              "<table border=\"1\" class=\"dataframe\">\n",
              "  <thead>\n",
              "    <tr style=\"text-align: right;\">\n",
              "      <th></th>\n",
              "      <th>Job</th>\n",
              "      <th>Total Compensation</th>\n",
              "    </tr>\n",
              "  </thead>\n",
              "  <tbody>\n",
              "    <tr>\n",
              "      <th>0</th>\n",
              "      <td>594</td>\n",
              "      <td>225108</td>\n",
              "    </tr>\n",
              "    <tr>\n",
              "      <th>1</th>\n",
              "      <td>596</td>\n",
              "      <td>210994</td>\n",
              "    </tr>\n",
              "    <tr>\n",
              "      <th>2</th>\n",
              "      <td>618</td>\n",
              "      <td>255185</td>\n",
              "    </tr>\n",
              "    <tr>\n",
              "      <th>3</th>\n",
              "      <td>600</td>\n",
              "      <td>418686</td>\n",
              "    </tr>\n",
              "    <tr>\n",
              "      <th>4</th>\n",
              "      <td>612</td>\n",
              "      <td>51057</td>\n",
              "    </tr>\n",
              "    <tr>\n",
              "      <th>...</th>\n",
              "      <td>...</td>\n",
              "      <td>...</td>\n",
              "    </tr>\n",
              "    <tr>\n",
              "      <th>678519</th>\n",
              "      <td>646</td>\n",
              "      <td>446119</td>\n",
              "    </tr>\n",
              "    <tr>\n",
              "      <th>678520</th>\n",
              "      <td>646</td>\n",
              "      <td>77058</td>\n",
              "    </tr>\n",
              "    <tr>\n",
              "      <th>678521</th>\n",
              "      <td>646</td>\n",
              "      <td>436396</td>\n",
              "    </tr>\n",
              "    <tr>\n",
              "      <th>678522</th>\n",
              "      <td>911</td>\n",
              "      <td>506291</td>\n",
              "    </tr>\n",
              "    <tr>\n",
              "      <th>678523</th>\n",
              "      <td>911</td>\n",
              "      <td>508714</td>\n",
              "    </tr>\n",
              "  </tbody>\n",
              "</table>\n",
              "<p>678524 rows × 2 columns</p>\n",
              "</div>\n",
              "      <button class=\"colab-df-convert\" onclick=\"convertToInteractive('df-b50cf346-e314-4a7b-8abf-c66fcbafec46')\"\n",
              "              title=\"Convert this dataframe to an interactive table.\"\n",
              "              style=\"display:none;\">\n",
              "        \n",
              "  <svg xmlns=\"http://www.w3.org/2000/svg\" height=\"24px\"viewBox=\"0 0 24 24\"\n",
              "       width=\"24px\">\n",
              "    <path d=\"M0 0h24v24H0V0z\" fill=\"none\"/>\n",
              "    <path d=\"M18.56 5.44l.94 2.06.94-2.06 2.06-.94-2.06-.94-.94-2.06-.94 2.06-2.06.94zm-11 1L8.5 8.5l.94-2.06 2.06-.94-2.06-.94L8.5 2.5l-.94 2.06-2.06.94zm10 10l.94 2.06.94-2.06 2.06-.94-2.06-.94-.94-2.06-.94 2.06-2.06.94z\"/><path d=\"M17.41 7.96l-1.37-1.37c-.4-.4-.92-.59-1.43-.59-.52 0-1.04.2-1.43.59L10.3 9.45l-7.72 7.72c-.78.78-.78 2.05 0 2.83L4 21.41c.39.39.9.59 1.41.59.51 0 1.02-.2 1.41-.59l7.78-7.78 2.81-2.81c.8-.78.8-2.07 0-2.86zM5.41 20L4 18.59l7.72-7.72 1.47 1.35L5.41 20z\"/>\n",
              "  </svg>\n",
              "      </button>\n",
              "      \n",
              "  <style>\n",
              "    .colab-df-container {\n",
              "      display:flex;\n",
              "      flex-wrap:wrap;\n",
              "      gap: 12px;\n",
              "    }\n",
              "\n",
              "    .colab-df-convert {\n",
              "      background-color: #E8F0FE;\n",
              "      border: none;\n",
              "      border-radius: 50%;\n",
              "      cursor: pointer;\n",
              "      display: none;\n",
              "      fill: #1967D2;\n",
              "      height: 32px;\n",
              "      padding: 0 0 0 0;\n",
              "      width: 32px;\n",
              "    }\n",
              "\n",
              "    .colab-df-convert:hover {\n",
              "      background-color: #E2EBFA;\n",
              "      box-shadow: 0px 1px 2px rgba(60, 64, 67, 0.3), 0px 1px 3px 1px rgba(60, 64, 67, 0.15);\n",
              "      fill: #174EA6;\n",
              "    }\n",
              "\n",
              "    [theme=dark] .colab-df-convert {\n",
              "      background-color: #3B4455;\n",
              "      fill: #D2E3FC;\n",
              "    }\n",
              "\n",
              "    [theme=dark] .colab-df-convert:hover {\n",
              "      background-color: #434B5C;\n",
              "      box-shadow: 0px 1px 3px 1px rgba(0, 0, 0, 0.15);\n",
              "      filter: drop-shadow(0px 1px 2px rgba(0, 0, 0, 0.3));\n",
              "      fill: #FFFFFF;\n",
              "    }\n",
              "  </style>\n",
              "\n",
              "      <script>\n",
              "        const buttonEl =\n",
              "          document.querySelector('#df-b50cf346-e314-4a7b-8abf-c66fcbafec46 button.colab-df-convert');\n",
              "        buttonEl.style.display =\n",
              "          google.colab.kernel.accessAllowed ? 'block' : 'none';\n",
              "\n",
              "        async function convertToInteractive(key) {\n",
              "          const element = document.querySelector('#df-b50cf346-e314-4a7b-8abf-c66fcbafec46');\n",
              "          const dataTable =\n",
              "            await google.colab.kernel.invokeFunction('convertToInteractive',\n",
              "                                                     [key], {});\n",
              "          if (!dataTable) return;\n",
              "\n",
              "          const docLinkHtml = 'Like what you see? Visit the ' +\n",
              "            '<a target=\"_blank\" href=https://colab.research.google.com/notebooks/data_table.ipynb>data table notebook</a>'\n",
              "            + ' to learn more about interactive tables.';\n",
              "          element.innerHTML = '';\n",
              "          dataTable['output_type'] = 'display_data';\n",
              "          await google.colab.output.renderOutput(dataTable, element);\n",
              "          const docLink = document.createElement('div');\n",
              "          docLink.innerHTML = docLinkHtml;\n",
              "          element.appendChild(docLink);\n",
              "        }\n",
              "      </script>\n",
              "    </div>\n",
              "  </div>\n",
              "  "
            ]
          },
          "metadata": {},
          "execution_count": 128
        }
      ]
    },
    {
      "cell_type": "code",
      "source": [
        "kmeans.fit(df1)"
      ],
      "metadata": {
        "colab": {
          "base_uri": "https://localhost:8080/"
        },
        "id": "XWaPLpalDHrq",
        "outputId": "9e19ce09-c56c-4066-fbfb-d47a8f7d49c7"
      },
      "execution_count": 129,
      "outputs": [
        {
          "output_type": "execute_result",
          "data": {
            "text/plain": [
              "KMeans(n_clusters=3)"
            ]
          },
          "metadata": {},
          "execution_count": 129
        }
      ]
    },
    {
      "cell_type": "code",
      "source": [
        "print(kmeans.cluster_centers_)"
      ],
      "metadata": {
        "colab": {
          "base_uri": "https://localhost:8080/"
        },
        "id": "zaDddGjoulwf",
        "outputId": "44851f54-f366-4bd8-ba83-8bc8918fbe3c"
      },
      "execution_count": 130,
      "outputs": [
        {
          "output_type": "stream",
          "name": "stdout",
          "text": [
            "[[   825.85152743 100029.98845765]\n",
            " [   752.00927629 319976.55495862]\n",
            " [   733.25039502 542179.05301285]]\n"
          ]
        }
      ]
    },
    {
      "cell_type": "code",
      "source": [
        "y=kmeans.predict(df1)"
      ],
      "metadata": {
        "id": "6fH0kdnKCwCR"
      },
      "execution_count": 131,
      "outputs": []
    },
    {
      "cell_type": "code",
      "source": [
        "y=kmeans.labels_\n",
        "y"
      ],
      "metadata": {
        "colab": {
          "base_uri": "https://localhost:8080/"
        },
        "id": "a0l1tBbKDs54",
        "outputId": "0395ea29-53da-4d6b-a10e-65805abcec10"
      },
      "execution_count": 132,
      "outputs": [
        {
          "output_type": "execute_result",
          "data": {
            "text/plain": [
              "array([1, 1, 1, ..., 2, 2, 2], dtype=int32)"
            ]
          },
          "metadata": {},
          "execution_count": 132
        }
      ]
    },
    {
      "cell_type": "code",
      "source": [
        "sns.countplot(x=kmeans.labels_, palette='Blues_r')\n",
        "plt.show()"
      ],
      "metadata": {
        "colab": {
          "base_uri": "https://localhost:8080/",
          "height": 265
        },
        "id": "VLWH6iRBDywQ",
        "outputId": "812c208c-54bd-4120-8cff-5d8c62f55eb0"
      },
      "execution_count": 133,
      "outputs": [
        {
          "output_type": "display_data",
          "data": {
            "text/plain": [
              "<Figure size 432x288 with 1 Axes>"
            ],
            "image/png": "[encoded data removed]"
          },
          "metadata": {
            "needs_background": "light"
          }
        }
      ]
    },
    {
      "cell_type": "code",
      "source": [
        "from scipy.spatial.distance import cdist, pdist\n",
        "from sklearn.cluster import KMeans"
      ],
      "metadata": {
        "id": "MO_9BD4iD6nL"
      },
      "execution_count": 134,
      "outputs": []
    },
    {
      "cell_type": "code",
      "source": [
        "distortions = []\n",
        "inertias = []\n",
        "mapping1 = {}\n",
        "mapping2 = {}\n",
        "K = range(1, 10)\n",
        "X= df1\n",
        " \n",
        "for k in K:\n",
        "    # Building and fitting the model\n",
        "    kmeanModel = KMeans(n_clusters=k).fit(X)\n",
        "    kmeanModel.fit(X)\n",
        " \n",
        "    distortions.append(sum(np.min(cdist(X, kmeanModel.cluster_centers_,\n",
        "                                        'euclidean'), axis=1)) / X.shape[0])\n",
        "    inertias.append(kmeanModel.inertia_)\n",
        " \n",
        "    mapping1[k] = sum(np.min(cdist(X, kmeanModel.cluster_centers_,\n",
        "                                   'euclidean'), axis=1)) / X.shape[0]\n",
        "    mapping2[k] = kmeanModel.inertia_"
      ],
      "metadata": {
        "id": "M6ZSh6URD-Oj"
      },
      "execution_count": 135,
      "outputs": []
    },
    {
      "cell_type": "code",
      "source": [
        "for key, val in mapping1.items():\n",
        "    print(f'{key} : {val}')"
      ],
      "metadata": {
        "colab": {
          "base_uri": "https://localhost:8080/"
        },
        "id": "8hqQmQHOEc0g",
        "outputId": "8b303c09-dcd8-465a-bfa6-34a8d7b3cbb2"
      },
      "execution_count": 136,
      "outputs": [
        {
          "output_type": "stream",
          "name": "stdout",
          "text": [
            "1 : 165680.02923490875\n",
            "2 : 82852.7961205765\n",
            "3 : 55007.22191020792\n",
            "4 : 41196.02909965211\n",
            "5 : 32935.008597182445\n",
            "6 : 27419.603229361193\n",
            "7 : 23464.36157685825\n",
            "8 : 20532.757411135157\n",
            "9 : 18229.815509368516\n"
          ]
        }
      ]
    },
    {
      "cell_type": "code",
      "source": [
        "plt.plot(K, distortions, 'bx-')\n",
        "plt.xlabel('Values of K')\n",
        "plt.ylabel('Distortion')\n",
        "plt.title('The Elbow Method using Distortion')\n",
        "plt.show()"
      ],
      "metadata": {
        "colab": {
          "base_uri": "https://localhost:8080/",
          "height": 295
        },
        "id": "zrhi_HkyFIVH",
        "outputId": "e63d2630-82e1-48d6-a511-6bd868d62e20"
      },
      "execution_count": 137,
      "outputs": [
        {
          "output_type": "display_data",
          "data": {
            "text/plain": [
              "<Figure size 432x288 with 1 Axes>"
            ],
            "image/png": "[encoded data removed]"
          },
          "metadata": {
            "needs_background": "light"
          }
        }
      ]
    },
    {
      "cell_type": "code",
      "source": [
        "plt.plot(K, inertias, 'bx-')\n",
        "plt.xlabel('Values of K')\n",
        "plt.ylabel('Inertia')\n",
        "plt.title('The Elbow Method using Inertia')\n",
        "plt.show()"
      ],
      "metadata": {
        "colab": {
          "base_uri": "https://localhost:8080/",
          "height": 295
        },
        "id": "zplX0u5iFOV3",
        "outputId": "f5970ddc-d364-4636-e22d-cf7eec1ca6a8"
      },
      "execution_count": 138,
      "outputs": [
        {
          "output_type": "display_data",
          "data": {
            "text/plain": [
              "<Figure size 432x288 with 1 Axes>"
            ],
            "image/png": "[encoded data removed]"
          },
          "metadata": {
            "needs_background": "light"
          }
        }
      ]
    },
    {
      "cell_type": "code",
      "source": [
        "# Confirming the K value as 3 from elbow method.\n",
        "kmeans=KMeans(n_clusters=3)"
      ],
      "metadata": {
        "id": "suX46jwsFV1n"
      },
      "execution_count": 139,
      "outputs": []
    },
    {
      "cell_type": "code",
      "source": [
        "kmeans.fit(df1)"
      ],
      "metadata": {
        "colab": {
          "base_uri": "https://localhost:8080/"
        },
        "id": "nEx9dfrcFYCI",
        "outputId": "e07dab4d-0679-4ce2-9676-51c5194030d4"
      },
      "execution_count": 140,
      "outputs": [
        {
          "output_type": "execute_result",
          "data": {
            "text/plain": [
              "KMeans(n_clusters=3)"
            ]
          },
          "metadata": {},
          "execution_count": 140
        }
      ]
    },
    {
      "cell_type": "code",
      "source": [
        "print(kmeans.cluster_centers_)"
      ],
      "metadata": {
        "colab": {
          "base_uri": "https://localhost:8080/"
        },
        "id": "RIfFdJ1CFdWa",
        "outputId": "a9e11a96-4d04-4a89-e9c5-eec343c3bcaa"
      },
      "execution_count": 141,
      "outputs": [
        {
          "output_type": "stream",
          "name": "stdout",
          "text": [
            "[[   732.32472593 544554.53417235]\n",
            " [   823.9061739  102516.40878108]\n",
            " [   752.82389004 324833.22188212]]\n"
          ]
        }
      ]
    },
    {
      "cell_type": "code",
      "source": [
        "sns.countplot(x=kmeans.labels_, palette='Oranges')\n",
        "plt.show()"
      ],
      "metadata": {
        "colab": {
          "base_uri": "https://localhost:8080/",
          "height": 265
        },
        "id": "YADZcikzFfiG",
        "outputId": "1f21aa36-3163-4737-8740-a84482d48ed1"
      },
      "execution_count": 142,
      "outputs": [
        {
          "output_type": "display_data",
          "data": {
            "text/plain": [
              "<Figure size 432x288 with 1 Axes>"
            ],
            "image/png": "[encoded data removed]"
          },
          "metadata": {
            "needs_background": "light"
          }
        }
      ]
    }
  ]
}